{
 "cells": [
  {
   "cell_type": "code",
   "execution_count": 1,
   "id": "d79c2be5",
   "metadata": {},
   "outputs": [],
   "source": [
    "import os \n",
    "from pathlib import Path\n",
    "import numpy as np\n",
    "import nibabel as nib\n",
    "import matplotlib.pyplot as plt\n",
    "import pandas as pd"
   ]
  },
  {
   "cell_type": "code",
   "execution_count": 2,
   "id": "ade9ce97",
   "metadata": {},
   "outputs": [],
   "source": [
    "def get_data(path):\n",
    "    data = pd.read_csv(path, names= ['Subject ID', 'Rooster ID', 'Age', 'Sexe', 'Group', 'Conversion', 'MMSE', 'RAVLT', 'FAQ', 'CDR-SB', 'ADAS11'], usecols = ['Subject ID', 'Rooster ID', 'Group'])\n",
    "    data.index = data['Subject ID']\n",
    "    data = data.drop(['Subject ID'], axis=1)\n",
    "    data = data[((data.Group == 'AD') | (data.Group == 'CN'))]\n",
    "    return data\n"
   ]
  },
  {
   "cell_type": "code",
   "execution_count": 3,
   "id": "858bfc7a",
   "metadata": {},
   "outputs": [],
   "source": [
    "path = str(Path().resolve())\n",
    "path = path + \"/ADNI1/\"\n",
    "filename = os.listdir(path)[2]\n",
    "n_mmni_filename = os.path.join(path, filename)\n",
    "img_n_mmni = nib.load(n_mmni_filename)\n"
   ]
  },
  {
   "cell_type": "code",
   "execution_count": 6,
   "id": "b726872d",
   "metadata": {},
   "outputs": [
    {
     "data": {
      "text/html": [
       "<div>\n",
       "<style scoped>\n",
       "    .dataframe tbody tr th:only-of-type {\n",
       "        vertical-align: middle;\n",
       "    }\n",
       "\n",
       "    .dataframe tbody tr th {\n",
       "        vertical-align: top;\n",
       "    }\n",
       "\n",
       "    .dataframe thead th {\n",
       "        text-align: right;\n",
       "    }\n",
       "</style>\n",
       "<table border=\"1\" class=\"dataframe\">\n",
       "  <thead>\n",
       "    <tr style=\"text-align: right;\">\n",
       "      <th></th>\n",
       "      <th>Rooster ID</th>\n",
       "      <th>Group</th>\n",
       "    </tr>\n",
       "    <tr>\n",
       "      <th>Subject ID</th>\n",
       "      <th></th>\n",
       "      <th></th>\n",
       "    </tr>\n",
       "  </thead>\n",
       "  <tbody>\n",
       "    <tr>\n",
       "      <th>002_S_0295</th>\n",
       "      <td>295</td>\n",
       "      <td>CN</td>\n",
       "    </tr>\n",
       "    <tr>\n",
       "      <th>002_S_0413</th>\n",
       "      <td>413</td>\n",
       "      <td>CN</td>\n",
       "    </tr>\n",
       "    <tr>\n",
       "      <th>002_S_0559</th>\n",
       "      <td>559</td>\n",
       "      <td>CN</td>\n",
       "    </tr>\n",
       "    <tr>\n",
       "      <th>002_S_0619</th>\n",
       "      <td>619</td>\n",
       "      <td>AD</td>\n",
       "    </tr>\n",
       "    <tr>\n",
       "      <th>002_S_0685</th>\n",
       "      <td>685</td>\n",
       "      <td>CN</td>\n",
       "    </tr>\n",
       "  </tbody>\n",
       "</table>\n",
       "</div>"
      ],
      "text/plain": [
       "            Rooster ID Group\n",
       "Subject ID                  \n",
       "002_S_0295         295    CN\n",
       "002_S_0413         413    CN\n",
       "002_S_0559         559    CN\n",
       "002_S_0619         619    AD\n",
       "002_S_0685         685    CN"
      ]
     },
     "execution_count": 6,
     "metadata": {},
     "output_type": "execute_result"
    }
   ],
   "source": [
    "path = str(Path().resolve()) + \"/ADNI1/list_standardized_tongtong_2017.csv\"\n",
    "y_data = get_data(path)\n",
    "y_data.head()\n"
   ]
  },
  {
   "cell_type": "markdown",
   "id": "3e6e2a03-b62f-41ee-aee4-9ac3ebabbf08",
   "metadata": {},
   "source": [
    "# Data preparation & splitting "
   ]
  },
  {
   "cell_type": "code",
   "execution_count": 10,
   "id": "55e167d8",
   "metadata": {},
   "outputs": [
    {
     "name": "stderr",
     "output_type": "stream",
     "text": [
      "2022-12-08 16:50:46.877179: I tensorflow/core/platform/cpu_feature_guard.cc:193] This TensorFlow binary is optimized with oneAPI Deep Neural Network Library (oneDNN) to use the following CPU instructions in performance-critical operations:  AVX2 FMA\n",
      "To enable them in other operations, rebuild TensorFlow with the appropriate compiler flags.\n",
      "2022-12-08 16:50:47.740955: W tensorflow/compiler/xla/stream_executor/platform/default/dso_loader.cc:64] Could not load dynamic library 'libnvinfer.so.7'; dlerror: libnvinfer.so.7: cannot open shared object file: No such file or directory; LD_LIBRARY_PATH: :/home/coleger/miniconda3/envs/tf/lib/\n",
      "2022-12-08 16:50:47.741017: W tensorflow/compiler/xla/stream_executor/platform/default/dso_loader.cc:64] Could not load dynamic library 'libnvinfer_plugin.so.7'; dlerror: libnvinfer_plugin.so.7: cannot open shared object file: No such file or directory; LD_LIBRARY_PATH: :/home/coleger/miniconda3/envs/tf/lib/\n",
      "2022-12-08 16:50:47.741023: W tensorflow/compiler/tf2tensorrt/utils/py_utils.cc:38] TF-TRT Warning: Cannot dlopen some TensorRT libraries. If you would like to use Nvidia GPU with TensorRT, please make sure the missing libraries mentioned above are installed properly.\n"
     ]
    }
   ],
   "source": [
    "from tensorflow.keras.utils import to_categorical\n",
    "\n",
    "\n",
    "def Data_preparation(Y):\n",
    "    X_data = []\n",
    "    Y_data = []\n",
    "    \n",
    "    path = str(Path().resolve()) + \"/ADNI1\"\n",
    "    for index, _ in Y.iterrows():\n",
    "        filename = path + '/n_mmni_fADNI_' + index + '_1.5T_t1w.nii.gz'\n",
    "        \n",
    "        if os.path.isfile(filename):\n",
    "            img_n_mmni = nib.load(filename).get_fdata()\n",
    "            \n",
    "            # hippocampe n°1 :\n",
    "            \n",
    "            hipp1 = img_n_mmni[40:80,90:130,40:80]\n",
    "            X_data.append(hipp1)\n",
    "            if Y['Group'][index] == 'AD':\n",
    "                Y_data.append(1)\n",
    "            elif Y['Group'][index] == 'CN':\n",
    "                Y_data.append(0)\n",
    "            \n",
    "            \n",
    "            # hippocampe n°2 :\n",
    "            \n",
    "            hipp2 = img_n_mmni[110:140,90:130,0:80]\n",
    "            X_data.append(hipp1)\n",
    "            if Y['Group'][index] == 'AD':\n",
    "                Y_data.append(1)\n",
    "            elif Y['Group'][index] == 'CN':\n",
    "                Y_data.append(0)    \n",
    "            \n",
    "        else:\n",
    "            Y.drop(index, inplace=True)\n",
    "        \n",
    "    X_data = np.array(X_data)   \n",
    "    return X_data, Y_data\n",
    "\n",
    "\n",
    "\n"
   ]
  },
  {
   "cell_type": "code",
   "execution_count": 11,
   "id": "14032a65",
   "metadata": {},
   "outputs": [
    {
     "name": "stdout",
     "output_type": "stream",
     "text": [
      "(838, 40, 40, 40)\n",
      "838\n"
     ]
    }
   ],
   "source": [
    "X_data, Y_data = Data_preparation(y_data)\n",
    "Y_data = to_categorical(Y_data, num_classes=2)\n",
    "\n",
    "print(X_data.shape)\n",
    "print(len(Y_data))"
   ]
  },
  {
   "cell_type": "code",
   "execution_count": 20,
   "id": "a587e272-0333-442a-9064-dad1690a1449",
   "metadata": {},
   "outputs": [],
   "source": [
    "# on garde seulement une colonne pour y \n",
    "y_data = np.argmax(Y_data, axis= 1)"
   ]
  },
  {
   "cell_type": "code",
   "execution_count": 21,
   "id": "3e607848",
   "metadata": {},
   "outputs": [
    {
     "name": "stdout",
     "output_type": "stream",
     "text": [
      "Data splited, length of training data is:  670\n",
      "Data splited, length of test data is:  168\n"
     ]
    }
   ],
   "source": [
    "from sklearn.model_selection import train_test_split\n",
    "\n",
    "X_train, X_test, y_train, y_test = train_test_split(X_data, y_data, test_size=0.2, random_state=49) \n",
    "\n",
    "print(\"Data splited, length of training data is: \", len(X_train))\n",
    "print(\"Data splited, length of test data is: \", len(X_test))"
   ]
  },
  {
   "cell_type": "markdown",
   "id": "84f8b232-5540-49a8-9aef-e3c858492793",
   "metadata": {},
   "source": [
    "# Creation of Conv3D model"
   ]
  },
  {
   "cell_type": "code",
   "execution_count": 22,
   "id": "9adcde85",
   "metadata": {},
   "outputs": [
    {
     "name": "stdout",
     "output_type": "stream",
     "text": [
      "Model: \"sequential_2\"\n",
      "_________________________________________________________________\n",
      " Layer (type)                Output Shape              Param #   \n",
      "=================================================================\n",
      " conv3d_4 (Conv3D)           (None, 38, 38, 38, 32)    896       \n",
      "                                                                 \n",
      " max_pooling3d_4 (MaxPooling  (None, 19, 19, 19, 32)   0         \n",
      " 3D)                                                             \n",
      "                                                                 \n",
      " batch_normalization_4 (Batc  (None, 19, 19, 19, 32)   128       \n",
      " hNormalization)                                                 \n",
      "                                                                 \n",
      " dropout_4 (Dropout)         (None, 19, 19, 19, 32)    0         \n",
      "                                                                 \n",
      " conv3d_5 (Conv3D)           (None, 17, 17, 17, 64)    55360     \n",
      "                                                                 \n",
      " max_pooling3d_5 (MaxPooling  (None, 8, 8, 8, 64)      0         \n",
      " 3D)                                                             \n",
      "                                                                 \n",
      " batch_normalization_5 (Batc  (None, 8, 8, 8, 64)      256       \n",
      " hNormalization)                                                 \n",
      "                                                                 \n",
      " dropout_5 (Dropout)         (None, 8, 8, 8, 64)       0         \n",
      "                                                                 \n",
      " flatten_2 (Flatten)         (None, 32768)             0         \n",
      "                                                                 \n",
      " dense_6 (Dense)             (None, 256)               8388864   \n",
      "                                                                 \n",
      " dense_7 (Dense)             (None, 128)               32896     \n",
      "                                                                 \n",
      " dense_8 (Dense)             (None, 1)                 129       \n",
      "                                                                 \n",
      "=================================================================\n",
      "Total params: 8,478,529\n",
      "Trainable params: 8,478,337\n",
      "Non-trainable params: 192\n",
      "_________________________________________________________________\n"
     ]
    }
   ],
   "source": [
    "import keras\n",
    "from keras.models import Sequential\n",
    "from keras.layers import Dense, Flatten, Conv3D, MaxPooling3D, Dropout, BatchNormalization\n",
    "\n",
    "model = Sequential()\n",
    "# Couches de convolution + MaxPooling\n",
    "model.add(Conv3D(32, kernel_size=(3, 3, 3), activation='relu', kernel_initializer='he_uniform', input_shape=(40,40,40,1)))\n",
    "# input shape = (batch_size, channels, dim1, dim2,dim3)\n",
    "model.add(MaxPooling3D(pool_size=(2, 2, 2)))\n",
    "model.add(BatchNormalization(center=True, scale=True))\n",
    "model.add(Dropout(0.3))\n",
    "model.add(Conv3D(64, kernel_size=(3, 3, 3), activation='relu', kernel_initializer='he_uniform'))\n",
    "model.add(MaxPooling3D(pool_size=(2, 2, 2)))\n",
    "model.add(BatchNormalization(center=True, scale=True))\n",
    "model.add(Dropout(0.3))\n",
    "# Couches de classification\n",
    "model.add(Flatten())\n",
    "model.add(Dense(256, activation='relu', kernel_initializer='he_uniform'))\n",
    "model.add(Dense(128, activation='relu', kernel_initializer='he_uniform'))\n",
    "model.add(Dense(1, activation='sigmoid'))\n",
    "\n",
    "# Compile the model\n",
    "model.compile(loss='binary_crossentropy',\n",
    "              optimizer=keras.optimizers.Adam(learning_rate=0.001),\n",
    "              metrics=['accuracy'])\n",
    "model.summary()\n",
    "\n",
    "    "
   ]
  },
  {
   "cell_type": "markdown",
   "id": "063b7a42-f414-431d-badf-2bfa8ea3ba09",
   "metadata": {},
   "source": [
    "# Training with CN et AD data "
   ]
  },
  {
   "cell_type": "code",
   "execution_count": 23,
   "id": "9dc6cc62",
   "metadata": {},
   "outputs": [
    {
     "name": "stdout",
     "output_type": "stream",
     "text": [
      "Epoch 1/80\n"
     ]
    },
    {
     "name": "stderr",
     "output_type": "stream",
     "text": [
      "2022-12-08 16:55:26.801406: I tensorflow/compiler/xla/stream_executor/cuda/cuda_dnn.cc:428] Loaded cuDNN version 8100\n",
      "2022-12-08 16:55:27.530753: I tensorflow/tsl/platform/default/subprocess.cc:304] Start cannot spawn child process: No such file or directory\n",
      "2022-12-08 16:55:28.309489: I tensorflow/compiler/xla/stream_executor/cuda/cuda_blas.cc:630] TensorFloat-32 will be used for the matrix multiplication. This will only be logged once.\n"
     ]
    },
    {
     "name": "stdout",
     "output_type": "stream",
     "text": [
      "335/335 [==============================] - 6s 8ms/step - loss: 2.5170 - accuracy: 0.6701 - val_loss: 1.8998 - val_accuracy: 0.5060\n",
      "Epoch 2/80\n",
      "335/335 [==============================] - 2s 7ms/step - loss: 0.6167 - accuracy: 0.8194 - val_loss: 0.9419 - val_accuracy: 0.7917\n",
      "Epoch 3/80\n",
      "335/335 [==============================] - 2s 7ms/step - loss: 0.3519 - accuracy: 0.8836 - val_loss: 1.0778 - val_accuracy: 0.6726\n",
      "Epoch 4/80\n",
      "335/335 [==============================] - 2s 7ms/step - loss: 0.3968 - accuracy: 0.8970 - val_loss: 0.1861 - val_accuracy: 0.9226\n",
      "Epoch 5/80\n",
      "335/335 [==============================] - 2s 7ms/step - loss: 0.2106 - accuracy: 0.9493 - val_loss: 0.4424 - val_accuracy: 0.8869\n",
      "Epoch 6/80\n",
      "335/335 [==============================] - 2s 7ms/step - loss: 0.1815 - accuracy: 0.9403 - val_loss: 0.2823 - val_accuracy: 0.8810\n",
      "Epoch 7/80\n",
      "335/335 [==============================] - 2s 7ms/step - loss: 0.0604 - accuracy: 0.9776 - val_loss: 0.7988 - val_accuracy: 0.7560\n",
      "Epoch 8/80\n",
      "335/335 [==============================] - 2s 7ms/step - loss: 0.0984 - accuracy: 0.9627 - val_loss: 0.2049 - val_accuracy: 0.9405\n",
      "Epoch 9/80\n",
      "335/335 [==============================] - 2s 7ms/step - loss: 0.1951 - accuracy: 0.9478 - val_loss: 0.3070 - val_accuracy: 0.8988\n",
      "Epoch 10/80\n",
      "335/335 [==============================] - 2s 7ms/step - loss: 0.1885 - accuracy: 0.9627 - val_loss: 0.5929 - val_accuracy: 0.9048\n",
      "Epoch 11/80\n",
      "335/335 [==============================] - 2s 7ms/step - loss: 0.2299 - accuracy: 0.9418 - val_loss: 0.2667 - val_accuracy: 0.9167\n",
      "Epoch 12/80\n",
      "335/335 [==============================] - 2s 7ms/step - loss: 0.0706 - accuracy: 0.9731 - val_loss: 0.1327 - val_accuracy: 0.9643\n",
      "Epoch 13/80\n",
      "335/335 [==============================] - 2s 7ms/step - loss: 0.0295 - accuracy: 0.9896 - val_loss: 0.2383 - val_accuracy: 0.9464\n",
      "Epoch 14/80\n",
      "335/335 [==============================] - 2s 7ms/step - loss: 0.1334 - accuracy: 0.9701 - val_loss: 0.4563 - val_accuracy: 0.8810\n",
      "Epoch 15/80\n",
      "335/335 [==============================] - 2s 7ms/step - loss: 0.1444 - accuracy: 0.9806 - val_loss: 0.2179 - val_accuracy: 0.9464\n",
      "Epoch 16/80\n",
      "335/335 [==============================] - 2s 7ms/step - loss: 0.0930 - accuracy: 0.9791 - val_loss: 0.2133 - val_accuracy: 0.9345\n",
      "Epoch 17/80\n",
      "335/335 [==============================] - 2s 7ms/step - loss: 0.0176 - accuracy: 0.9940 - val_loss: 0.4268 - val_accuracy: 0.9405\n",
      "Epoch 18/80\n",
      "335/335 [==============================] - 2s 7ms/step - loss: 0.0231 - accuracy: 0.9925 - val_loss: 0.3206 - val_accuracy: 0.9524\n",
      "Epoch 19/80\n",
      "335/335 [==============================] - 2s 7ms/step - loss: 0.0715 - accuracy: 0.9806 - val_loss: 0.2498 - val_accuracy: 0.9464\n",
      "Epoch 20/80\n",
      "335/335 [==============================] - 2s 7ms/step - loss: 0.1207 - accuracy: 0.9687 - val_loss: 0.2104 - val_accuracy: 0.9405\n",
      "Epoch 21/80\n",
      "335/335 [==============================] - 2s 7ms/step - loss: 0.0409 - accuracy: 0.9910 - val_loss: 0.3142 - val_accuracy: 0.9107\n",
      "Epoch 22/80\n",
      "335/335 [==============================] - ETA: 0s - loss: 0.0033 - accuracy: 1.0000Restoring model weights from the end of the best epoch: 12.\n",
      "335/335 [==============================] - 2s 7ms/step - loss: 0.0033 - accuracy: 1.0000 - val_loss: 0.1770 - val_accuracy: 0.9405\n",
      "Epoch 22: early stopping\n"
     ]
    }
   ],
   "source": [
    "import tensorflow as tf\n",
    "# ajout d'un early stopping \n",
    "callback = tf.keras.callbacks.EarlyStopping(monitor='val_loss', patience=10, verbose=1, restore_best_weights=True)\n",
    "\n",
    "history = model.fit(X_train, y_train, epochs=80, validation_data=(X_test, y_test),callbacks=[callback],batch_size=2)"
   ]
  },
  {
   "cell_type": "markdown",
   "id": "dce39156-ffbf-452a-b38a-401177d65eaf",
   "metadata": {},
   "source": [
    "# Plotting metrics "
   ]
  },
  {
   "cell_type": "code",
   "execution_count": 24,
   "id": "6abd1773",
   "metadata": {},
   "outputs": [
    {
     "data": {
      "image/png": "[encoded data removed]",
      "text/plain": [
       "<Figure size 640x480 with 1 Axes>"
      ]
     },
     "metadata": {},
     "output_type": "display_data"
    },
    {
     "data": {
      "image/png": "[encoded data removed]",
      "text/plain": [
       "<Figure size 640x480 with 1 Axes>"
      ]
     },
     "metadata": {},
     "output_type": "display_data"
    }
   ],
   "source": [
    "def plot_loss_curves(history):\n",
    "    \n",
    "      \n",
    "    loss = history.history['loss']\n",
    "    val_loss = history.history['val_loss']\n",
    "\n",
    "    accuracy = history.history['accuracy']\n",
    "    val_accuracy = history.history['val_accuracy']\n",
    "\n",
    "    epochs = range(len(history.history['loss']))\n",
    "\n",
    "    # Plot loss\n",
    "    plt.plot(epochs, loss, label='training_loss')\n",
    "    plt.plot(epochs, val_loss, label='val_loss')\n",
    "    plt.title('Loss')\n",
    "    plt.xlabel('Epochs')\n",
    "    plt.legend()\n",
    "\n",
    "    # Plot accuracy\n",
    "    plt.figure()\n",
    "    plt.plot(epochs, accuracy, label='training_accuracy')\n",
    "    plt.plot(epochs, val_accuracy, label='val_accuracy')\n",
    "    plt.title('Accuracy')\n",
    "    plt.xlabel('Epochs')\n",
    "    plt.legend()\n",
    "\n",
    "plot_loss_curves(history)"
   ]
  },
  {
   "cell_type": "code",
   "execution_count": 25,
   "id": "879fd63a-73b5-4522-8a7b-48a6c58cb154",
   "metadata": {},
   "outputs": [
    {
     "name": "stdout",
     "output_type": "stream",
     "text": [
      " Best val_accuracy value : 0.9642857313156128 \n"
     ]
    }
   ],
   "source": [
    "best_val_accuracy = np.max(history.history['val_accuracy'])\n",
    "print(' Best val_accuracy value : {} '.format(best_val_accuracy))"
   ]
  },
  {
   "cell_type": "markdown",
   "id": "f76cf6b9-6228-47f7-bd67-a071d8a18335",
   "metadata": {},
   "source": [
    "# Testing with pMCI et sMCI data "
   ]
  },
  {
   "cell_type": "markdown",
   "id": "07e50143-b0d6-4cb8-b214-be38ca71e28b",
   "metadata": {},
   "source": [
    "- pMCI ~ AD ==1\n",
    "- sMCI ~ CN ==0"
   ]
  },
  {
   "cell_type": "code",
   "execution_count": 36,
   "id": "0b16cad0-6f38-4e2f-b5e4-3c99a48bb707",
   "metadata": {},
   "outputs": [],
   "source": [
    "def get_data_MCI(path):\n",
    "    data = pd.read_csv(path, names= ['Subject ID', 'Rooster ID', 'Age', 'Sexe', 'Group', 'Conversion', 'MMSE', 'RAVLT', 'FAQ', 'CDR-SB', 'ADAS11'], usecols = ['Subject ID', 'Rooster ID', 'Group','Conversion'])\n",
    "    data.index = data['Subject ID']\n",
    "    data = data.drop(['Subject ID'], axis=1)\n",
    "    data = data[((data['Conversion'] == 1) | (data['Conversion'] == 2) | (data['Conversion'] == 3) | (data['Conversion'] == 4))]\n",
    "    return data\n"
   ]
  },
  {
   "cell_type": "code",
   "execution_count": 37,
   "id": "414dd0e6-c879-40c1-a53a-d8d079b639bd",
   "metadata": {},
   "outputs": [],
   "source": [
    "path = str(Path().resolve())\n",
    "path = path + \"/ADNI1/\"\n",
    "filename = os.listdir(path)[2]\n",
    "n_mmni_filename = os.path.join(path, filename)\n",
    "img_n_mmni = nib.load(n_mmni_filename)\n"
   ]
  },
  {
   "cell_type": "code",
   "execution_count": 38,
   "id": "f040ba8a-7e33-40eb-a777-8115c20ad4ba",
   "metadata": {},
   "outputs": [
    {
     "data": {
      "text/html": [
       "<div>\n",
       "<style scoped>\n",
       "    .dataframe tbody tr th:only-of-type {\n",
       "        vertical-align: middle;\n",
       "    }\n",
       "\n",
       "    .dataframe tbody tr th {\n",
       "        vertical-align: top;\n",
       "    }\n",
       "\n",
       "    .dataframe thead th {\n",
       "        text-align: right;\n",
       "    }\n",
       "</style>\n",
       "<table border=\"1\" class=\"dataframe\">\n",
       "  <thead>\n",
       "    <tr style=\"text-align: right;\">\n",
       "      <th></th>\n",
       "      <th>Rooster ID</th>\n",
       "      <th>Group</th>\n",
       "      <th>Conversion</th>\n",
       "    </tr>\n",
       "    <tr>\n",
       "      <th>Subject ID</th>\n",
       "      <th></th>\n",
       "      <th></th>\n",
       "      <th></th>\n",
       "    </tr>\n",
       "  </thead>\n",
       "  <tbody>\n",
       "    <tr>\n",
       "      <th>002_S_0729</th>\n",
       "      <td>729</td>\n",
       "      <td>MCI</td>\n",
       "      <td>3</td>\n",
       "    </tr>\n",
       "    <tr>\n",
       "      <th>002_S_0782</th>\n",
       "      <td>782</td>\n",
       "      <td>MCI</td>\n",
       "      <td>4</td>\n",
       "    </tr>\n",
       "    <tr>\n",
       "      <th>002_S_0954</th>\n",
       "      <td>954</td>\n",
       "      <td>MCI</td>\n",
       "      <td>3</td>\n",
       "    </tr>\n",
       "    <tr>\n",
       "      <th>002_S_1070</th>\n",
       "      <td>1070</td>\n",
       "      <td>MCI</td>\n",
       "      <td>3</td>\n",
       "    </tr>\n",
       "    <tr>\n",
       "      <th>002_S_1155</th>\n",
       "      <td>1155</td>\n",
       "      <td>MCI</td>\n",
       "      <td>4</td>\n",
       "    </tr>\n",
       "  </tbody>\n",
       "</table>\n",
       "</div>"
      ],
      "text/plain": [
       "            Rooster ID Group  Conversion\n",
       "Subject ID                              \n",
       "002_S_0729         729   MCI           3\n",
       "002_S_0782         782   MCI           4\n",
       "002_S_0954         954   MCI           3\n",
       "002_S_1070        1070   MCI           3\n",
       "002_S_1155        1155   MCI           4"
      ]
     },
     "execution_count": 38,
     "metadata": {},
     "output_type": "execute_result"
    }
   ],
   "source": [
    "path = str(Path().resolve()) + \"/ADNI1/list_standardized_tongtong_2017.csv\"\n",
    "y_data = get_data_MCI(path)\n",
    "y_data.head()\n"
   ]
  },
  {
   "cell_type": "markdown",
   "id": "b4e44c14-17c6-4d34-b63a-e6600ff890cd",
   "metadata": {},
   "source": [
    "# Data preparation & splitting "
   ]
  },
  {
   "cell_type": "code",
   "execution_count": 39,
   "id": "7bf3605b-7673-4cae-819a-289ccea3c293",
   "metadata": {},
   "outputs": [],
   "source": [
    "from tensorflow.keras.utils import to_categorical\n",
    "\n",
    "\n",
    "def Data_preparation_MCI(Y):\n",
    "    X_data = []\n",
    "    Y_data = []\n",
    "    \n",
    "    path = str(Path().resolve()) + \"/ADNI1\"\n",
    "    for index, _ in Y.iterrows():\n",
    "        filename = path + '/n_mmni_fADNI_' + index + '_1.5T_t1w.nii.gz'\n",
    "        \n",
    "        if os.path.isfile(filename):\n",
    "            img_n_mmni = nib.load(filename).get_fdata()\n",
    "            \n",
    "            # hippocampe n°1 :\n",
    "            \n",
    "            hipp1 = img_n_mmni[40:80,90:130,40:80]\n",
    "            X_data.append(hipp1)\n",
    "            if Y['Conversion'][index] == 1 | Y['Conversion'][index] == 2 | Y['Conversion'][index] == 3 : # pMCI\n",
    "                Y_data.append(1)\n",
    "            elif Y['Conversion'][index] == 4 : #sMCI\n",
    "                Y_data.append(0)\n",
    "            \n",
    "            \n",
    "            # hippocampe n°2 :\n",
    "            \n",
    "            hipp2 = img_n_mmni[110:140,90:130,0:80]\n",
    "            X_data.append(hipp1)\n",
    "            if Y['Conversion'][index] == 1 | Y['Conversion'][index] == 2 | Y['Conversion'][index] == 3 : # pMCI\n",
    "                Y_data.append(1)\n",
    "            elif Y['Conversion'][index] == 4 : #sMCI\n",
    "                Y_data.append(0)    \n",
    "            \n",
    "        else:\n",
    "            Y.drop(index, inplace=True)\n",
    "        \n",
    "    X_data = np.array(X_data)   \n",
    "    return X_data, Y_data\n",
    "\n",
    "\n",
    "\n"
   ]
  },
  {
   "cell_type": "code",
   "execution_count": 40,
   "id": "2e713b45-2719-4394-982c-c063a38692a1",
   "metadata": {},
   "outputs": [
    {
     "name": "stdout",
     "output_type": "stream",
     "text": [
      "(600, 40, 40, 40)\n",
      "600\n"
     ]
    }
   ],
   "source": [
    "X_data, Y_data = Data_preparation_MCI(y_data)\n",
    "Y_data = to_categorical(Y_data, num_classes=2)\n",
    "\n",
    "print(X_data.shape)\n",
    "print(len(Y_data))"
   ]
  },
  {
   "cell_type": "code",
   "execution_count": 41,
   "id": "95e8c931-2864-4328-ae48-44d2f1572af3",
   "metadata": {},
   "outputs": [],
   "source": [
    "# on garde seulement une colonne pour y \n",
    "y_data = np.argmax(Y_data, axis= 1)"
   ]
  },
  {
   "cell_type": "code",
   "execution_count": 44,
   "id": "585436b7-cc27-40f0-8236-9292ef8140e9",
   "metadata": {},
   "outputs": [
    {
     "name": "stdout",
     "output_type": "stream",
     "text": [
      "19/19 [==============================] - 1s 20ms/step\n"
     ]
    }
   ],
   "source": [
    "ypred = model.predict(X_data)"
   ]
  },
  {
   "cell_type": "code",
   "execution_count": 47,
   "id": "fe177ea0-c2e8-4110-ac82-c1880fdae534",
   "metadata": {},
   "outputs": [
    {
     "name": "stdout",
     "output_type": "stream",
     "text": [
      "[[8.9373207e-04]\n",
      " [8.9373207e-04]\n",
      " [9.9798882e-01]\n",
      " [9.9798882e-01]\n",
      " [9.6380769e-04]]\n",
      "1.0\n",
      "6.101658e-09\n"
     ]
    }
   ],
   "source": [
    "print(ypred[0:5])\n",
    "print(np.max(ypred))\n",
    "print(np.min(ypred))"
   ]
  },
  {
   "cell_type": "code",
   "execution_count": 48,
   "id": "ff55af02-13e2-4049-a97d-22cc1e51b53d",
   "metadata": {},
   "outputs": [
    {
     "name": "stdout",
     "output_type": "stream",
     "text": [
      "[[0]\n",
      " [0]\n",
      " [1]\n",
      " [1]\n",
      " [0]]\n"
     ]
    }
   ],
   "source": [
    "ypred = np.where(ypred > 0.5, 1, 0)\n",
    "print (ypred[0:5])"
   ]
  },
  {
   "cell_type": "code",
   "execution_count": 49,
   "id": "999296f0-a2f5-46de-bbe3-1cdc145b990d",
   "metadata": {},
   "outputs": [
    {
     "name": "stdout",
     "output_type": "stream",
     "text": [
      "accuracy on MCI data based on CN and AD training : 0.6466666666666666 \n"
     ]
    }
   ],
   "source": [
    "from sklearn.metrics import accuracy_score\n",
    "\n",
    "acc = accuracy_score(ypred, y_data)\n",
    "print('accuracy on MCI data based on CN and AD training : {} '.format(acc))"
   ]
  }
 ],
 "metadata": {
  "kernelspec": {
   "display_name": "Python 3 (ipykernel)",
   "language": "python",
   "name": "python3"
  },
  "language_info": {
   "codemirror_mode": {
    "name": "ipython",
    "version": 3
   },
   "file_extension": ".py",
   "mimetype": "text/x-python",
   "name": "python",
   "nbconvert_exporter": "python",
   "pygments_lexer": "ipython3",
   "version": "3.10.6"
  },
  "vscode": {
   "interpreter": {
    "hash": "916dbcbb3f70747c44a77c7bcd40155683ae19c65e1c03b4aa3499c5328201f1"
   }
  }
 },
 "nbformat": 4,
 "nbformat_minor": 5
}
