{
 "cells": [
  {
   "cell_type": "code",
   "execution_count": 1,
   "id": "d79c2be5",
   "metadata": {},
   "outputs": [],
   "source": [
    "import os \n",
    "from pathlib import Path\n",
    "import numpy as np\n",
    "import nibabel as nib\n",
    "import matplotlib.pyplot as plt\n",
    "import pandas as pd"
   ]
  },
  {
   "cell_type": "code",
   "execution_count": 2,
   "id": "ade9ce97",
   "metadata": {},
   "outputs": [],
   "source": [
    "def get_data(path):\n",
    "    data = pd.read_csv(path, names= ['Subject ID', 'Rooster ID', 'Age', 'Sexe', 'Group', 'Conversion', 'MMSE', 'RAVLT', 'FAQ', 'CDR-SB', 'ADAS11'], usecols = ['Subject ID', 'Rooster ID', 'Group'])\n",
    "    data.index = data['Subject ID']\n",
    "    data = data.drop(['Subject ID'], axis=1)\n",
    "    data = data[((data.Group == 'AD') | (data.Group == 'CN'))]\n",
    "    return data\n"
   ]
  },
  {
   "cell_type": "code",
   "execution_count": 3,
   "id": "858bfc7a",
   "metadata": {},
   "outputs": [],
   "source": [
    "path = str(Path().resolve())\n",
    "path = path + \"/ADNI1/\"\n",
    "filename = os.listdir(path)[2]\n",
    "n_mmni_filename = os.path.join(path, filename)\n",
    "img_n_mmni = nib.load(n_mmni_filename)\n"
   ]
  },
  {
   "cell_type": "code",
   "execution_count": 4,
   "id": "5e35ad82",
   "metadata": {},
   "outputs": [
    {
     "data": {
      "image/png": "[encoded data removed]",
      "text/plain": [
       "<Figure size 640x480 with 1 Axes>"
      ]
     },
     "metadata": {},
     "output_type": "display_data"
    },
    {
     "data": {
      "image/png": "[encoded data removed]",
      "text/plain": [
       "<Figure size 640x480 with 1 Axes>"
      ]
     },
     "metadata": {},
     "output_type": "display_data"
    },
    {
     "data": {
      "image/png": "[encoded data removed]",
      "text/plain": [
       "<Figure size 640x480 with 1 Axes>"
      ]
     },
     "metadata": {},
     "output_type": "display_data"
    }
   ],
   "source": [
    "def sagital_adjacent_slices(img_n_mmni, m, epsilon, y_tuple, z_tuple):\n",
    "    crop_img = img_n_mmni.slicer[m-epsilon:m+epsilon+1:epsilon, y_tuple[0]:y_tuple[1], z_tuple[0]:z_tuple[1]]\n",
    "    crop_img = crop_img.get_fdata()\n",
    "    crop_img = np.transpose(crop_img, (1, 2, 0))\n",
    "    return crop_img\n",
    "\n",
    "def coronal_adjacent_slices(img_n_mmni, x_tuple, m, epsilon, z_tuple):\n",
    "    crop_img = img_n_mmni.slicer[x_tuple[0]:x_tuple[1], m-epsilon:m+epsilon+1:epsilon, z_tuple[0]:z_tuple[1]]\n",
    "    crop_img = crop_img.get_fdata()\n",
    "    crop_img = np.transpose(crop_img, (0, 2, 1))\n",
    "    return crop_img\n",
    "\n",
    "def axial_adjacent_slices(img_n_mmni, x_tuple, y_tuple, m, epsilon):\n",
    "    crop_img = img_n_mmni.slicer[x_tuple[0]:x_tuple[1], y_tuple[0]:y_tuple[1], m-epsilon:m+epsilon+1:epsilon]\n",
    "    return crop_img.get_fdata()\n",
    "\n",
    "#Test of coronal projection\n",
    "img_data = coronal_adjacent_slices(img_n_mmni, (40,80), 110, 5,(40,80))\n",
    "#img_data = coronal_adjacent_slices(img_n_mmni, (0,181), 110, 5,(0,181))\n",
    "img_data = coronal_adjacent_slices(img_n_mmni, (100,140), 110, 5,(40,80))\n",
    "\n",
    "\n",
    "for i in range(3):\n",
    "    plt.imshow(img_data[:, :, i])\n",
    "    plt.show()"
   ]
  },
  {
   "cell_type": "code",
   "execution_count": 5,
   "id": "b726872d",
   "metadata": {},
   "outputs": [
    {
     "data": {
      "text/html": [
       "<div>\n",
       "<style scoped>\n",
       "    .dataframe tbody tr th:only-of-type {\n",
       "        vertical-align: middle;\n",
       "    }\n",
       "\n",
       "    .dataframe tbody tr th {\n",
       "        vertical-align: top;\n",
       "    }\n",
       "\n",
       "    .dataframe thead th {\n",
       "        text-align: right;\n",
       "    }\n",
       "</style>\n",
       "<table border=\"1\" class=\"dataframe\">\n",
       "  <thead>\n",
       "    <tr style=\"text-align: right;\">\n",
       "      <th></th>\n",
       "      <th>Rooster ID</th>\n",
       "      <th>Group</th>\n",
       "    </tr>\n",
       "    <tr>\n",
       "      <th>Subject ID</th>\n",
       "      <th></th>\n",
       "      <th></th>\n",
       "    </tr>\n",
       "  </thead>\n",
       "  <tbody>\n",
       "    <tr>\n",
       "      <th>002_S_0295</th>\n",
       "      <td>295</td>\n",
       "      <td>CN</td>\n",
       "    </tr>\n",
       "    <tr>\n",
       "      <th>002_S_0413</th>\n",
       "      <td>413</td>\n",
       "      <td>CN</td>\n",
       "    </tr>\n",
       "    <tr>\n",
       "      <th>002_S_0559</th>\n",
       "      <td>559</td>\n",
       "      <td>CN</td>\n",
       "    </tr>\n",
       "    <tr>\n",
       "      <th>002_S_0619</th>\n",
       "      <td>619</td>\n",
       "      <td>AD</td>\n",
       "    </tr>\n",
       "    <tr>\n",
       "      <th>002_S_0685</th>\n",
       "      <td>685</td>\n",
       "      <td>CN</td>\n",
       "    </tr>\n",
       "    <tr>\n",
       "      <th>002_S_0816</th>\n",
       "      <td>816</td>\n",
       "      <td>AD</td>\n",
       "    </tr>\n",
       "    <tr>\n",
       "      <th>002_S_0938</th>\n",
       "      <td>938</td>\n",
       "      <td>AD</td>\n",
       "    </tr>\n",
       "  </tbody>\n",
       "</table>\n",
       "</div>"
      ],
      "text/plain": [
       "            Rooster ID Group\n",
       "Subject ID                  \n",
       "002_S_0295         295    CN\n",
       "002_S_0413         413    CN\n",
       "002_S_0559         559    CN\n",
       "002_S_0619         619    AD\n",
       "002_S_0685         685    CN\n",
       "002_S_0816         816    AD\n",
       "002_S_0938         938    AD"
      ]
     },
     "execution_count": 5,
     "metadata": {},
     "output_type": "execute_result"
    }
   ],
   "source": [
    "path = str(Path().resolve()) + \"/ADNI1/list_standardized_tongtong_2017.csv\"\n",
    "y_data = get_data(path)\n",
    "y_data.head(7)\n"
   ]
  },
  {
   "cell_type": "code",
   "execution_count": 6,
   "id": "c9ca1fa6",
   "metadata": {},
   "outputs": [
    {
     "name": "stdout",
     "output_type": "stream",
     "text": [
      "(420, 2)\n"
     ]
    }
   ],
   "source": [
    "print(y_data.shape)"
   ]
  },
  {
   "cell_type": "code",
   "execution_count": 7,
   "id": "55e167d8",
   "metadata": {},
   "outputs": [
    {
     "name": "stderr",
     "output_type": "stream",
     "text": [
      "2022-12-16 16:27:25.107777: I tensorflow/core/platform/cpu_feature_guard.cc:193] This TensorFlow binary is optimized with oneAPI Deep Neural Network Library (oneDNN) to use the following CPU instructions in performance-critical operations:  AVX2 FMA\n",
      "To enable them in other operations, rebuild TensorFlow with the appropriate compiler flags.\n",
      "2022-12-16 16:27:26.284470: W tensorflow/compiler/xla/stream_executor/platform/default/dso_loader.cc:64] Could not load dynamic library 'libnvinfer.so.7'; dlerror: libnvinfer.so.7: cannot open shared object file: No such file or directory; LD_LIBRARY_PATH: :/home/coleger/miniconda3/envs/tf/lib/\n",
      "2022-12-16 16:27:26.284560: W tensorflow/compiler/xla/stream_executor/platform/default/dso_loader.cc:64] Could not load dynamic library 'libnvinfer_plugin.so.7'; dlerror: libnvinfer_plugin.so.7: cannot open shared object file: No such file or directory; LD_LIBRARY_PATH: :/home/coleger/miniconda3/envs/tf/lib/\n",
      "2022-12-16 16:27:26.284567: W tensorflow/compiler/tf2tensorrt/utils/py_utils.cc:38] TF-TRT Warning: Cannot dlopen some TensorRT libraries. If you would like to use Nvidia GPU with TensorRT, please make sure the missing libraries mentioned above are installed properly.\n"
     ]
    }
   ],
   "source": [
    "from tensorflow.keras.utils import to_categorical\n",
    "\n",
    "\n",
    "def Data_preparation(Y, epsilon=1):\n",
    "    X_data = []\n",
    "    Y_data = []\n",
    "    \n",
    "    path = str(Path().resolve()) + \"/ADNI1\"\n",
    "    for index, _ in Y.iterrows():\n",
    "        filename = path + '/n_mmni_fADNI_' + index + '_1.5T_t1w.nii.gz'\n",
    "        \n",
    "        if os.path.isfile(filename):\n",
    "            img_n_mmni = nib.load(filename)\n",
    "        \n",
    "            \n",
    "            for i in range(-3,3):\n",
    "                img_3_projections = []\n",
    "                img_slices_data = sagital_adjacent_slices(img_n_mmni, 60+i, epsilon, (90+i,130+i), (30+i,70+i))\n",
    "                img_3_projections.append(img_slices_data)\n",
    "                \n",
    "                img_slices_data = coronal_adjacent_slices(img_n_mmni, (40+i,80+i), 110+i, epsilon, (30+i,70+i))\n",
    "                img_3_projections.append(img_slices_data)\n",
    "                \n",
    "                img_slices_data = axial_adjacent_slices(img_n_mmni, (40+i,80+i), (90+i,130+i), 60+i, epsilon)\n",
    "                img_3_projections.append(img_slices_data)\n",
    "                \n",
    "                img_3_projections = np.array(img_3_projections)\n",
    "                X_data.append(img_3_projections)\n",
    "\n",
    "                if Y['Group'][index] == 'AD':\n",
    "                    Y_data.append(1)\n",
    "                elif Y['Group'][index] == 'CN':\n",
    "                    Y_data.append(0)\n",
    "            \n",
    "            \n",
    "            for i in range(-3,3):\n",
    "                img_3_projections = []\n",
    "\n",
    "                img_slices_data = sagital_adjacent_slices(img_n_mmni, 120+i, epsilon, (90+i,130+i), (30+i,70+i))\n",
    "                img_slices_data = img_slices_data[:, :, ::-1]\n",
    "                img_3_projections.append(img_slices_data)\n",
    "                \n",
    "                img_slices_data = coronal_adjacent_slices(img_n_mmni, (100+i,140+i), 110+i, epsilon, (30+i,70+i))\n",
    "                img_slices_data = img_slices_data[::-1, :, :]\n",
    "                img_3_projections.append(img_slices_data)\n",
    "                \n",
    "                img_slices_data = axial_adjacent_slices(img_n_mmni,(100+i,140+i), (90+i,130+i), 60+i, epsilon)\n",
    "                img_slices_data = img_slices_data[::-1, :, :]\n",
    "                img_3_projections.append(img_slices_data)\n",
    "                \n",
    "                img_3_projections = np.array(img_3_projections)\n",
    "                X_data.append(img_3_projections)\n",
    "\n",
    "                if Y['Group'][index] == 'AD':\n",
    "                    Y_data.append(1)\n",
    "                elif Y['Group'][index] == 'CN':\n",
    "                    Y_data.append(0)\n",
    "        \n",
    "    X_data = np.array(X_data)   \n",
    "    return X_data, Y_data\n"
   ]
  },
  {
   "cell_type": "code",
   "execution_count": 8,
   "id": "14032a65",
   "metadata": {},
   "outputs": [
    {
     "name": "stdout",
     "output_type": "stream",
     "text": [
      "(5028, 3, 40, 40, 3)\n",
      "5028\n"
     ]
    }
   ],
   "source": [
    "X_data, Y_data = Data_preparation(y_data, epsilon = 4) \n",
    "Y_data = to_categorical(Y_data, num_classes=2)\n",
    "\n",
    "print(X_data.shape)\n",
    "print(len(Y_data))"
   ]
  },
  {
   "cell_type": "code",
   "execution_count": 9,
   "id": "3e607848",
   "metadata": {},
   "outputs": [
    {
     "name": "stdout",
     "output_type": "stream",
     "text": [
      "len(X_train) =  4022\n",
      "len(X_test) =  1006\n"
     ]
    }
   ],
   "source": [
    "from sklearn.model_selection import train_test_split\n",
    "X_train, X_test, Y_train, Y_test = train_test_split(X_data, Y_data, test_size=0.2, random_state=49) \n",
    "\n",
    "print(\"len(X_train) = \", len(X_train))\n",
    "print(\"len(X_test) = \", len(X_test))"
   ]
  },
  {
   "cell_type": "code",
   "execution_count": 10,
   "id": "9adcde85",
   "metadata": {},
   "outputs": [
    {
     "name": "stderr",
     "output_type": "stream",
     "text": [
      "2022-12-16 16:39:31.915716: I tensorflow/compiler/xla/stream_executor/cuda/cuda_gpu_executor.cc:981] successful NUMA node read from SysFS had negative value (-1), but there must be at least one NUMA node, so returning NUMA node zero\n",
      "2022-12-16 16:39:31.935145: I tensorflow/compiler/xla/stream_executor/cuda/cuda_gpu_executor.cc:981] successful NUMA node read from SysFS had negative value (-1), but there must be at least one NUMA node, so returning NUMA node zero\n",
      "2022-12-16 16:39:31.935271: I tensorflow/compiler/xla/stream_executor/cuda/cuda_gpu_executor.cc:981] successful NUMA node read from SysFS had negative value (-1), but there must be at least one NUMA node, so returning NUMA node zero\n",
      "2022-12-16 16:39:31.935809: I tensorflow/core/platform/cpu_feature_guard.cc:193] This TensorFlow binary is optimized with oneAPI Deep Neural Network Library (oneDNN) to use the following CPU instructions in performance-critical operations:  AVX2 FMA\n",
      "To enable them in other operations, rebuild TensorFlow with the appropriate compiler flags.\n",
      "2022-12-16 16:39:31.936439: I tensorflow/compiler/xla/stream_executor/cuda/cuda_gpu_executor.cc:981] successful NUMA node read from SysFS had negative value (-1), but there must be at least one NUMA node, so returning NUMA node zero\n",
      "2022-12-16 16:39:31.936555: I tensorflow/compiler/xla/stream_executor/cuda/cuda_gpu_executor.cc:981] successful NUMA node read from SysFS had negative value (-1), but there must be at least one NUMA node, so returning NUMA node zero\n",
      "2022-12-16 16:39:31.936658: I tensorflow/compiler/xla/stream_executor/cuda/cuda_gpu_executor.cc:981] successful NUMA node read from SysFS had negative value (-1), but there must be at least one NUMA node, so returning NUMA node zero\n",
      "2022-12-16 16:39:32.440016: I tensorflow/compiler/xla/stream_executor/cuda/cuda_gpu_executor.cc:981] successful NUMA node read from SysFS had negative value (-1), but there must be at least one NUMA node, so returning NUMA node zero\n",
      "2022-12-16 16:39:32.440361: I tensorflow/compiler/xla/stream_executor/cuda/cuda_gpu_executor.cc:981] successful NUMA node read from SysFS had negative value (-1), but there must be at least one NUMA node, so returning NUMA node zero\n",
      "2022-12-16 16:39:32.440475: I tensorflow/compiler/xla/stream_executor/cuda/cuda_gpu_executor.cc:981] successful NUMA node read from SysFS had negative value (-1), but there must be at least one NUMA node, so returning NUMA node zero\n",
      "2022-12-16 16:39:32.440712: I tensorflow/core/common_runtime/gpu/gpu_device.cc:1613] Created device /job:localhost/replica:0/task:0/device:GPU:0 with 10222 MB memory:  -> device: 0, name: NVIDIA GeForce RTX 3060, pci bus id: 0000:01:00.0, compute capability: 8.6\n"
     ]
    },
    {
     "name": "stdout",
     "output_type": "stream",
     "text": [
      "Model: \"model\"\n",
      "__________________________________________________________________________________________________\n",
      " Layer (type)                   Output Shape         Param #     Connected to                     \n",
      "==================================================================================================\n",
      " input_1 (InputLayer)           [(None, 3, 40, 40,   0           []                               \n",
      "                                3)]                                                               \n",
      "                                                                                                  \n",
      " tf.__operators__.getitem (Slic  (None, 40, 40, 3)   0           ['input_1[0][0]']                \n",
      " ingOpLambda)                                                                                     \n",
      "                                                                                                  \n",
      " tf.__operators__.getitem_1 (Sl  (None, 40, 40, 3)   0           ['input_1[0][0]']                \n",
      " icingOpLambda)                                                                                   \n",
      "                                                                                                  \n",
      " tf.__operators__.getitem_2 (Sl  (None, 40, 40, 3)   0           ['input_1[0][0]']                \n",
      " icingOpLambda)                                                                                   \n",
      "                                                                                                  \n",
      " separable_conv2d (SeparableCon  (None, 40, 40, 32)  176         ['tf.__operators__.getitem[0][0]'\n",
      " v2D)                                                            ]                                \n",
      "                                                                                                  \n",
      " separable_conv2d_2 (SeparableC  (None, 40, 40, 32)  176         ['tf.__operators__.getitem_1[0][0\n",
      " onv2D)                                                          ]']                              \n",
      "                                                                                                  \n",
      " separable_conv2d_4 (SeparableC  (None, 40, 40, 32)  176         ['tf.__operators__.getitem_2[0][0\n",
      " onv2D)                                                          ]']                              \n",
      "                                                                                                  \n",
      " batch_normalization (BatchNorm  (None, 40, 40, 32)  128         ['separable_conv2d[0][0]']       \n",
      " alization)                                                                                       \n",
      "                                                                                                  \n",
      " batch_normalization_2 (BatchNo  (None, 40, 40, 32)  128         ['separable_conv2d_2[0][0]']     \n",
      " rmalization)                                                                                     \n",
      "                                                                                                  \n",
      " batch_normalization_4 (BatchNo  (None, 40, 40, 32)  128         ['separable_conv2d_4[0][0]']     \n",
      " rmalization)                                                                                     \n",
      "                                                                                                  \n",
      " max_pooling2d (MaxPooling2D)   (None, 19, 19, 32)   0           ['batch_normalization[0][0]']    \n",
      "                                                                                                  \n",
      " max_pooling2d_2 (MaxPooling2D)  (None, 19, 19, 32)  0           ['batch_normalization_2[0][0]']  \n",
      "                                                                                                  \n",
      " max_pooling2d_4 (MaxPooling2D)  (None, 19, 19, 32)  0           ['batch_normalization_4[0][0]']  \n",
      "                                                                                                  \n",
      " activation (Activation)        (None, 19, 19, 32)   0           ['max_pooling2d[0][0]']          \n",
      "                                                                                                  \n",
      " activation_2 (Activation)      (None, 19, 19, 32)   0           ['max_pooling2d_2[0][0]']        \n",
      "                                                                                                  \n",
      " activation_4 (Activation)      (None, 19, 19, 32)   0           ['max_pooling2d_4[0][0]']        \n",
      "                                                                                                  \n",
      " separable_conv2d_1 (SeparableC  (None, 18, 18, 64)  2240        ['activation[0][0]']             \n",
      " onv2D)                                                                                           \n",
      "                                                                                                  \n",
      " separable_conv2d_3 (SeparableC  (None, 18, 18, 64)  2240        ['activation_2[0][0]']           \n",
      " onv2D)                                                                                           \n",
      "                                                                                                  \n",
      " separable_conv2d_5 (SeparableC  (None, 18, 18, 64)  2240        ['activation_4[0][0]']           \n",
      " onv2D)                                                                                           \n",
      "                                                                                                  \n",
      " batch_normalization_1 (BatchNo  (None, 18, 18, 64)  256         ['separable_conv2d_1[0][0]']     \n",
      " rmalization)                                                                                     \n",
      "                                                                                                  \n",
      " batch_normalization_3 (BatchNo  (None, 18, 18, 64)  256         ['separable_conv2d_3[0][0]']     \n",
      " rmalization)                                                                                     \n",
      "                                                                                                  \n",
      " batch_normalization_5 (BatchNo  (None, 18, 18, 64)  256         ['separable_conv2d_5[0][0]']     \n",
      " rmalization)                                                                                     \n",
      "                                                                                                  \n",
      " max_pooling2d_1 (MaxPooling2D)  (None, 9, 9, 64)    0           ['batch_normalization_1[0][0]']  \n",
      "                                                                                                  \n",
      " max_pooling2d_3 (MaxPooling2D)  (None, 9, 9, 64)    0           ['batch_normalization_3[0][0]']  \n",
      "                                                                                                  \n",
      " max_pooling2d_5 (MaxPooling2D)  (None, 9, 9, 64)    0           ['batch_normalization_5[0][0]']  \n",
      "                                                                                                  \n",
      " activation_1 (Activation)      (None, 9, 9, 64)     0           ['max_pooling2d_1[0][0]']        \n",
      "                                                                                                  \n",
      " activation_3 (Activation)      (None, 9, 9, 64)     0           ['max_pooling2d_3[0][0]']        \n",
      "                                                                                                  \n",
      " activation_5 (Activation)      (None, 9, 9, 64)     0           ['max_pooling2d_5[0][0]']        \n",
      "                                                                                                  \n",
      " dropout (Dropout)              (None, 9, 9, 64)     0           ['activation_1[0][0]']           \n",
      "                                                                                                  \n",
      " dropout_1 (Dropout)            (None, 9, 9, 64)     0           ['activation_3[0][0]']           \n",
      "                                                                                                  \n",
      " dropout_2 (Dropout)            (None, 9, 9, 64)     0           ['activation_5[0][0]']           \n",
      "                                                                                                  \n",
      " flatten (Flatten)              (None, 5184)         0           ['dropout[0][0]']                \n",
      "                                                                                                  \n",
      " flatten_1 (Flatten)            (None, 5184)         0           ['dropout_1[0][0]']              \n",
      "                                                                                                  \n",
      " flatten_2 (Flatten)            (None, 5184)         0           ['dropout_2[0][0]']              \n",
      "                                                                                                  \n",
      " Concat1 (Concatenate)          (None, 15552)        0           ['flatten[0][0]',                \n",
      "                                                                  'flatten_1[0][0]',              \n",
      "                                                                  'flatten_2[0][0]']              \n",
      "                                                                                                  \n",
      " Flatten1 (Flatten)             (None, 15552)        0           ['Concat1[0][0]']                \n",
      "                                                                                                  \n",
      " dense (Dense)                  (None, 2)            31106       ['Flatten1[0][0]']               \n",
      "                                                                                                  \n",
      "==================================================================================================\n",
      "Total params: 39,506\n",
      "Trainable params: 38,930\n",
      "Non-trainable params: 576\n",
      "__________________________________________________________________________________________________\n"
     ]
    }
   ],
   "source": [
    "from tensorflow.keras.layers import Conv2D, SeparableConv2D, MaxPooling2D, UpSampling2D, Cropping2D, Conv3D, MaxPooling3D, UpSampling3D, Cropping3D, Input, Concatenate, Flatten, Dense, Dropout, BatchNormalization, Activation, BatchNormalization, GlobalAveragePooling2D, GlobalAveragePooling3D, add\n",
    "from tensorflow.keras.models import Model\n",
    "from tensorflow.keras.regularizers import l2\n",
    "from tensorflow.keras.optimizers import Adam\n",
    "\n",
    "\n",
    "def Slices_network(inputs, i, padding='same'):\n",
    "    x = inputs[:,i,:,:]\n",
    "    num_filters = 32\n",
    "\n",
    "    x = SeparableConv2D(filters=num_filters, kernel_size=(4,4), strides=1, padding=padding)(x)\n",
    "    x = BatchNormalization()(x)\n",
    "    x = MaxPooling2D(pool_size=(3,3), strides=2)(x)\n",
    "    x = Activation('relu')(x)\n",
    "    \n",
    "    num_filters *= 2\n",
    "    x = SeparableConv2D(filters=num_filters, kernel_size=(2,2), strides=1)(x)\n",
    "    x = BatchNormalization()(x)\n",
    "    x = MaxPooling2D(pool_size=(2,2), strides=2)(x)\n",
    "    x = Activation('relu')(x)\n",
    "    \n",
    "    x = Dropout(0.2)(x)\n",
    "    x = Flatten()(x)\n",
    "    return x\n",
    "\n",
    "def create_model_2D_epsilon(input_size, padding='same', nb_class=2):\n",
    "    inputs = Input(shape=input_size)\n",
    "    nb_slices = inputs.shape[1]\n",
    "    out_list = []\n",
    "    for i in range(nb_slices):\n",
    "        out_list.append(Slices_network(inputs=inputs, i=i, padding='same'))\n",
    "\n",
    "    x = Concatenate(name = \"Concat1\")(out_list)\n",
    "    x = Flatten(name = \"Flatten1\")(x)\n",
    "    \n",
    "    outputs = Dense(nb_class, activation='softmax')(x)\n",
    "    \n",
    "    return Model(inputs, outputs)\n",
    "\n",
    "    \n",
    "model = create_model_2D_epsilon(X_train[0].shape)\n",
    "model.summary()\n",
    "model.compile(optimizer=Adam(1e-4), loss='binary_crossentropy', metrics=['accuracy'])\n",
    "     \n",
    "\n",
    "    "
   ]
  },
  {
   "cell_type": "code",
   "execution_count": 11,
   "id": "9dc6cc62",
   "metadata": {},
   "outputs": [
    {
     "name": "stdout",
     "output_type": "stream",
     "text": [
      "Epoch 1/50\n"
     ]
    },
    {
     "name": "stderr",
     "output_type": "stream",
     "text": [
      "2022-12-16 16:39:34.532719: E tensorflow/core/grappler/optimizers/meta_optimizer.cc:954] layout failed: INVALID_ARGUMENT: Size of values 0 does not match size of permutation 4 @ fanin shape inmodel/dropout/dropout/SelectV2-2-TransposeNHWCToNCHW-LayoutOptimizer\n",
      "2022-12-16 16:39:35.366300: I tensorflow/compiler/xla/stream_executor/cuda/cuda_blas.cc:630] TensorFloat-32 will be used for the matrix multiplication. This will only be logged once.\n",
      "2022-12-16 16:39:35.991882: I tensorflow/compiler/xla/stream_executor/cuda/cuda_dnn.cc:428] Loaded cuDNN version 8100\n",
      "2022-12-16 16:39:36.105564: I tensorflow/compiler/xla/service/service.cc:173] XLA service 0x7f8efd1e4490 initialized for platform CUDA (this does not guarantee that XLA will be used). Devices:\n",
      "2022-12-16 16:39:36.105584: I tensorflow/compiler/xla/service/service.cc:181]   StreamExecutor device (0): NVIDIA GeForce RTX 3060, Compute Capability 8.6\n",
      "2022-12-16 16:39:36.118314: I tensorflow/compiler/mlir/tensorflow/utils/dump_mlir_util.cc:268] disabling MLIR crash reproducer, set env var `MLIR_CRASH_REPRODUCER_DIRECTORY` to enable.\n",
      "2022-12-16 16:39:36.247360: I tensorflow/tsl/platform/default/subprocess.cc:304] Start cannot spawn child process: No such file or directory\n",
      "2022-12-16 16:39:36.298028: I tensorflow/compiler/jit/xla_compilation_cache.cc:477] Compiled cluster using XLA!  This line is logged at most once for the lifetime of the process.\n"
     ]
    },
    {
     "name": "stdout",
     "output_type": "stream",
     "text": [
      "121/126 [===========================>..] - ETA: 0s - loss: 0.5975 - accuracy: 0.7195"
     ]
    },
    {
     "name": "stderr",
     "output_type": "stream",
     "text": [
      "2022-12-16 16:39:40.380295: I tensorflow/tsl/platform/default/subprocess.cc:304] Start cannot spawn child process: No such file or directory\n"
     ]
    },
    {
     "name": "stdout",
     "output_type": "stream",
     "text": [
      "126/126 [==============================] - 7s 19ms/step - loss: 0.5915 - accuracy: 0.7238 - val_loss: 0.6118 - val_accuracy: 0.7256\n",
      "Epoch 2/50\n",
      "126/126 [==============================] - 1s 10ms/step - loss: 0.4681 - accuracy: 0.7944 - val_loss: 0.5247 - val_accuracy: 0.7813\n",
      "Epoch 3/50\n",
      "126/126 [==============================] - 1s 10ms/step - loss: 0.4237 - accuracy: 0.8210 - val_loss: 0.4644 - val_accuracy: 0.8022\n",
      "Epoch 4/50\n",
      "126/126 [==============================] - 1s 10ms/step - loss: 0.3984 - accuracy: 0.8334 - val_loss: 0.4013 - val_accuracy: 0.8350\n",
      "Epoch 5/50\n",
      "126/126 [==============================] - 1s 10ms/step - loss: 0.3710 - accuracy: 0.8481 - val_loss: 0.3916 - val_accuracy: 0.8300\n",
      "Epoch 6/50\n",
      "126/126 [==============================] - 1s 10ms/step - loss: 0.3595 - accuracy: 0.8528 - val_loss: 0.3769 - val_accuracy: 0.8429\n",
      "Epoch 7/50\n",
      "126/126 [==============================] - 1s 10ms/step - loss: 0.3355 - accuracy: 0.8662 - val_loss: 0.3837 - val_accuracy: 0.8320\n",
      "Epoch 8/50\n",
      "126/126 [==============================] - 1s 10ms/step - loss: 0.3282 - accuracy: 0.8682 - val_loss: 0.3880 - val_accuracy: 0.8350\n",
      "Epoch 9/50\n",
      "126/126 [==============================] - 1s 10ms/step - loss: 0.3181 - accuracy: 0.8764 - val_loss: 0.3761 - val_accuracy: 0.8380\n",
      "Epoch 10/50\n",
      "126/126 [==============================] - 1s 10ms/step - loss: 0.3038 - accuracy: 0.8839 - val_loss: 0.3537 - val_accuracy: 0.8429\n",
      "Epoch 11/50\n",
      "126/126 [==============================] - 1s 10ms/step - loss: 0.2884 - accuracy: 0.8918 - val_loss: 0.3517 - val_accuracy: 0.8439\n",
      "Epoch 12/50\n",
      "126/126 [==============================] - 1s 10ms/step - loss: 0.2725 - accuracy: 0.8983 - val_loss: 0.3890 - val_accuracy: 0.8350\n",
      "Epoch 13/50\n",
      "126/126 [==============================] - 1s 10ms/step - loss: 0.2702 - accuracy: 0.8966 - val_loss: 0.3498 - val_accuracy: 0.8459\n",
      "Epoch 14/50\n",
      "126/126 [==============================] - 1s 10ms/step - loss: 0.2564 - accuracy: 0.9085 - val_loss: 0.3497 - val_accuracy: 0.8449\n",
      "Epoch 15/50\n",
      "126/126 [==============================] - 1s 10ms/step - loss: 0.2433 - accuracy: 0.9107 - val_loss: 0.3277 - val_accuracy: 0.8569\n",
      "Epoch 16/50\n",
      "126/126 [==============================] - 1s 10ms/step - loss: 0.2400 - accuracy: 0.9150 - val_loss: 0.3296 - val_accuracy: 0.8618\n",
      "Epoch 17/50\n",
      "126/126 [==============================] - 1s 10ms/step - loss: 0.2322 - accuracy: 0.9189 - val_loss: 0.3224 - val_accuracy: 0.8569\n",
      "Epoch 18/50\n",
      "126/126 [==============================] - 1s 10ms/step - loss: 0.2328 - accuracy: 0.9167 - val_loss: 0.3217 - val_accuracy: 0.8598\n",
      "Epoch 19/50\n",
      "126/126 [==============================] - 1s 10ms/step - loss: 0.2143 - accuracy: 0.9281 - val_loss: 0.3166 - val_accuracy: 0.8559\n",
      "Epoch 20/50\n",
      "126/126 [==============================] - 1s 10ms/step - loss: 0.2096 - accuracy: 0.9264 - val_loss: 0.3204 - val_accuracy: 0.8509\n",
      "Epoch 21/50\n",
      "126/126 [==============================] - 1s 10ms/step - loss: 0.2041 - accuracy: 0.9274 - val_loss: 0.3382 - val_accuracy: 0.8569\n",
      "Epoch 22/50\n",
      "126/126 [==============================] - 1s 10ms/step - loss: 0.1953 - accuracy: 0.9334 - val_loss: 0.3095 - val_accuracy: 0.8658\n",
      "Epoch 23/50\n",
      "126/126 [==============================] - 1s 10ms/step - loss: 0.1973 - accuracy: 0.9356 - val_loss: 0.3087 - val_accuracy: 0.8668\n",
      "Epoch 24/50\n",
      "126/126 [==============================] - 1s 10ms/step - loss: 0.1797 - accuracy: 0.9438 - val_loss: 0.3052 - val_accuracy: 0.8598\n",
      "Epoch 25/50\n",
      "126/126 [==============================] - 1s 10ms/step - loss: 0.1815 - accuracy: 0.9383 - val_loss: 0.3049 - val_accuracy: 0.8638\n",
      "Epoch 26/50\n",
      "126/126 [==============================] - 1s 10ms/step - loss: 0.1790 - accuracy: 0.9441 - val_loss: 0.3015 - val_accuracy: 0.8698\n",
      "Epoch 27/50\n",
      "126/126 [==============================] - 1s 10ms/step - loss: 0.1647 - accuracy: 0.9520 - val_loss: 0.3062 - val_accuracy: 0.8648\n",
      "Epoch 28/50\n",
      "126/126 [==============================] - 1s 10ms/step - loss: 0.1629 - accuracy: 0.9533 - val_loss: 0.3090 - val_accuracy: 0.8688\n",
      "Epoch 29/50\n",
      "126/126 [==============================] - 1s 10ms/step - loss: 0.1617 - accuracy: 0.9503 - val_loss: 0.3132 - val_accuracy: 0.8559\n",
      "Epoch 30/50\n",
      "126/126 [==============================] - 1s 10ms/step - loss: 0.1513 - accuracy: 0.9572 - val_loss: 0.3053 - val_accuracy: 0.8618\n",
      "Epoch 31/50\n",
      "126/126 [==============================] - 1s 10ms/step - loss: 0.1503 - accuracy: 0.9560 - val_loss: 0.2919 - val_accuracy: 0.8628\n",
      "Epoch 32/50\n",
      "126/126 [==============================] - 1s 10ms/step - loss: 0.1502 - accuracy: 0.9543 - val_loss: 0.3044 - val_accuracy: 0.8698\n",
      "Epoch 33/50\n",
      "126/126 [==============================] - 1s 10ms/step - loss: 0.1419 - accuracy: 0.9597 - val_loss: 0.2912 - val_accuracy: 0.8688\n",
      "Epoch 34/50\n",
      "126/126 [==============================] - 1s 10ms/step - loss: 0.1395 - accuracy: 0.9595 - val_loss: 0.2915 - val_accuracy: 0.8718\n",
      "Epoch 35/50\n",
      "126/126 [==============================] - 1s 10ms/step - loss: 0.1346 - accuracy: 0.9567 - val_loss: 0.2953 - val_accuracy: 0.8678\n",
      "Epoch 36/50\n",
      "126/126 [==============================] - 1s 10ms/step - loss: 0.1407 - accuracy: 0.9600 - val_loss: 0.2942 - val_accuracy: 0.8738\n",
      "Epoch 37/50\n",
      "126/126 [==============================] - 1s 10ms/step - loss: 0.1273 - accuracy: 0.9657 - val_loss: 0.2891 - val_accuracy: 0.8738\n",
      "Epoch 38/50\n",
      "126/126 [==============================] - 1s 10ms/step - loss: 0.1252 - accuracy: 0.9677 - val_loss: 0.2828 - val_accuracy: 0.8728\n",
      "Epoch 39/50\n",
      "126/126 [==============================] - 1s 10ms/step - loss: 0.1246 - accuracy: 0.9667 - val_loss: 0.2894 - val_accuracy: 0.8738\n",
      "Epoch 40/50\n",
      "126/126 [==============================] - 1s 10ms/step - loss: 0.1239 - accuracy: 0.9677 - val_loss: 0.2898 - val_accuracy: 0.8757\n",
      "Epoch 41/50\n",
      "126/126 [==============================] - 1s 10ms/step - loss: 0.1216 - accuracy: 0.9682 - val_loss: 0.2829 - val_accuracy: 0.8708\n",
      "Epoch 42/50\n",
      "126/126 [==============================] - 1s 10ms/step - loss: 0.1077 - accuracy: 0.9731 - val_loss: 0.2942 - val_accuracy: 0.8688\n",
      "Epoch 43/50\n",
      "126/126 [==============================] - 1s 10ms/step - loss: 0.1127 - accuracy: 0.9697 - val_loss: 0.2839 - val_accuracy: 0.8767\n",
      "Epoch 44/50\n",
      "126/126 [==============================] - 1s 10ms/step - loss: 0.1054 - accuracy: 0.9749 - val_loss: 0.2912 - val_accuracy: 0.8698\n",
      "Epoch 45/50\n",
      "126/126 [==============================] - 1s 10ms/step - loss: 0.1042 - accuracy: 0.9729 - val_loss: 0.2789 - val_accuracy: 0.8738\n",
      "Epoch 46/50\n",
      "126/126 [==============================] - 1s 10ms/step - loss: 0.1017 - accuracy: 0.9739 - val_loss: 0.2873 - val_accuracy: 0.8738\n",
      "Epoch 47/50\n",
      "126/126 [==============================] - 1s 10ms/step - loss: 0.0996 - accuracy: 0.9766 - val_loss: 0.2842 - val_accuracy: 0.8748\n",
      "Epoch 48/50\n",
      "126/126 [==============================] - 1s 10ms/step - loss: 0.0936 - accuracy: 0.9764 - val_loss: 0.2856 - val_accuracy: 0.8757\n",
      "Epoch 49/50\n",
      "126/126 [==============================] - 1s 10ms/step - loss: 0.0935 - accuracy: 0.9779 - val_loss: 0.2826 - val_accuracy: 0.8767\n",
      "Epoch 50/50\n",
      "126/126 [==============================] - 1s 10ms/step - loss: 0.0890 - accuracy: 0.9791 - val_loss: 0.3025 - val_accuracy: 0.8708\n"
     ]
    }
   ],
   "source": [
    "import tensorflow as tf\n",
    "callback = tf.keras.callbacks.EarlyStopping(monitor='val_accuracy', patience=15, verbose=1, restore_best_weights=True)\n",
    "history = model.fit(X_train, Y_train, epochs=50, validation_data=(X_test, Y_test), callbacks=[callback])"
   ]
  },
  {
   "cell_type": "code",
   "execution_count": 12,
   "id": "6abd1773",
   "metadata": {},
   "outputs": [
    {
     "data": {
      "image/png": "[encoded data removed]",
      "text/plain": [
       "<Figure size 640x480 with 1 Axes>"
      ]
     },
     "metadata": {},
     "output_type": "display_data"
    },
    {
     "data": {
      "image/png": "[encoded data removed]",
      "text/plain": [
       "<Figure size 640x480 with 1 Axes>"
      ]
     },
     "metadata": {},
     "output_type": "display_data"
    }
   ],
   "source": [
    "def plot_loss_curves(history):\n",
    "      \n",
    "      loss = history.history['loss']\n",
    "      val_loss = history.history['val_loss']\n",
    "\n",
    "      accuracy = history.history['accuracy']\n",
    "      val_accuracy = history.history['val_accuracy']\n",
    "\n",
    "      epochs = range(len(history.history['loss']))\n",
    "\n",
    "      # Plot loss\n",
    "      plt.plot(epochs, loss, label='training_loss')\n",
    "      plt.plot(epochs, val_loss, label='val_loss')\n",
    "      plt.title('Loss')\n",
    "      plt.xlabel('Epochs')\n",
    "      plt.legend()\n",
    "\n",
    "      # Plot accuracy\n",
    "      plt.figure()\n",
    "      plt.plot(epochs, accuracy, label='training_accuracy')\n",
    "      plt.plot(epochs, val_accuracy, label='val_accuracy')\n",
    "      plt.title('Accuracy')\n",
    "      plt.xlabel('Epochs')\n",
    "      plt.legend()\n",
    "\n",
    "plot_loss_curves(history)"
   ]
  },
  {
   "cell_type": "code",
   "execution_count": 13,
   "id": "69195e26",
   "metadata": {},
   "outputs": [
    {
     "name": "stdout",
     "output_type": "stream",
     "text": [
      "32/32 [==============================] - 0s 2ms/step\n",
      "[[519  34]\n",
      " [ 96 357]]\n"
     ]
    },
    {
     "data": {
      "image/png": "[encoded data removed]",
      "text/plain": [
       "<Figure size 640x480 with 2 Axes>"
      ]
     },
     "metadata": {},
     "output_type": "display_data"
    }
   ],
   "source": [
    "from sklearn.metrics import confusion_matrix\n",
    "from sklearn.metrics import plot_confusion_matrix\n",
    "import seaborn as sns\n",
    "\n",
    "pred = model.predict(X_test)\n",
    "pred = np.argmax(pred, axis=1)\n",
    "\n",
    "labels = np.argmax(Y_test, axis=1)\n",
    "cf_matrix = confusion_matrix(labels, pred)\n",
    "print(cf_matrix)\n",
    "ax = sns.heatmap(cf_matrix/np.sum(cf_matrix), annot=True, \n",
    "            fmt='.2%', cmap='Blues')\n",
    "plt.show()\n"
   ]
  },
  {
   "cell_type": "markdown",
   "id": "46165540",
   "metadata": {},
   "source": [
    "## Training with whole AD and CN data for MCI \n"
   ]
  },
  {
   "cell_type": "code",
   "execution_count": 14,
   "id": "821082ab",
   "metadata": {},
   "outputs": [
    {
     "name": "stdout",
     "output_type": "stream",
     "text": [
      "(None, 40, 40, 3)\n",
      "(None, 40, 40, 32)\n",
      "(None, 40, 40, 32)\n",
      "(None, 20, 20, 32)\n",
      "(None, 40, 40, 3)\n",
      "(None, 40, 40, 32)\n",
      "(None, 40, 40, 32)\n",
      "(None, 20, 20, 32)\n",
      "(None, 40, 40, 3)\n",
      "(None, 40, 40, 32)\n",
      "(None, 40, 40, 32)\n",
      "(None, 20, 20, 32)\n",
      "iiiii\n",
      "(None, 19200)\n",
      "(None, 19200)\n",
      "(None, 2)\n",
      "Model: \"model_1\"\n",
      "__________________________________________________________________________________________________\n",
      " Layer (type)                   Output Shape         Param #     Connected to                     \n",
      "==================================================================================================\n",
      " input_2 (InputLayer)           [(None, 3, 40, 40,   0           []                               \n",
      "                                3)]                                                               \n",
      "                                                                                                  \n",
      " tf.__operators__.getitem_3 (Sl  (None, 40, 40, 3)   0           ['input_2[0][0]']                \n",
      " icingOpLambda)                                                                                   \n",
      "                                                                                                  \n",
      " tf.__operators__.getitem_4 (Sl  (None, 40, 40, 3)   0           ['input_2[0][0]']                \n",
      " icingOpLambda)                                                                                   \n",
      "                                                                                                  \n",
      " tf.__operators__.getitem_5 (Sl  (None, 40, 40, 3)   0           ['input_2[0][0]']                \n",
      " icingOpLambda)                                                                                   \n",
      "                                                                                                  \n",
      " separable_conv2d_6 (SeparableC  (None, 40, 40, 32)  176         ['tf.__operators__.getitem_3[0][0\n",
      " onv2D)                                                          ]']                              \n",
      "                                                                                                  \n",
      " separable_conv2d_8 (SeparableC  (None, 40, 40, 32)  176         ['tf.__operators__.getitem_4[0][0\n",
      " onv2D)                                                          ]']                              \n",
      "                                                                                                  \n",
      " separable_conv2d_10 (Separable  (None, 40, 40, 32)  176         ['tf.__operators__.getitem_5[0][0\n",
      " Conv2D)                                                         ]']                              \n",
      "                                                                                                  \n",
      " batch_normalization_6 (BatchNo  (None, 40, 40, 32)  128         ['separable_conv2d_6[0][0]']     \n",
      " rmalization)                                                                                     \n",
      "                                                                                                  \n",
      " batch_normalization_8 (BatchNo  (None, 40, 40, 32)  128         ['separable_conv2d_8[0][0]']     \n",
      " rmalization)                                                                                     \n",
      "                                                                                                  \n",
      " batch_normalization_10 (BatchN  (None, 40, 40, 32)  128         ['separable_conv2d_10[0][0]']    \n",
      " ormalization)                                                                                    \n",
      "                                                                                                  \n",
      " max_pooling2d_6 (MaxPooling2D)  (None, 20, 20, 32)  0           ['batch_normalization_6[0][0]']  \n",
      "                                                                                                  \n",
      " max_pooling2d_8 (MaxPooling2D)  (None, 20, 20, 32)  0           ['batch_normalization_8[0][0]']  \n",
      "                                                                                                  \n",
      " max_pooling2d_10 (MaxPooling2D  (None, 20, 20, 32)  0           ['batch_normalization_10[0][0]'] \n",
      " )                                                                                                \n",
      "                                                                                                  \n",
      " activation_6 (Activation)      (None, 20, 20, 32)   0           ['max_pooling2d_6[0][0]']        \n",
      "                                                                                                  \n",
      " activation_8 (Activation)      (None, 20, 20, 32)   0           ['max_pooling2d_8[0][0]']        \n",
      "                                                                                                  \n",
      " activation_10 (Activation)     (None, 20, 20, 32)   0           ['max_pooling2d_10[0][0]']       \n",
      "                                                                                                  \n",
      " separable_conv2d_7 (SeparableC  (None, 19, 19, 64)  2240        ['activation_6[0][0]']           \n",
      " onv2D)                                                                                           \n",
      "                                                                                                  \n",
      " separable_conv2d_9 (SeparableC  (None, 19, 19, 64)  2240        ['activation_8[0][0]']           \n",
      " onv2D)                                                                                           \n",
      "                                                                                                  \n",
      " separable_conv2d_11 (Separable  (None, 19, 19, 64)  2240        ['activation_10[0][0]']          \n",
      " Conv2D)                                                                                          \n",
      "                                                                                                  \n",
      " batch_normalization_7 (BatchNo  (None, 19, 19, 64)  256         ['separable_conv2d_7[0][0]']     \n",
      " rmalization)                                                                                     \n",
      "                                                                                                  \n",
      " batch_normalization_9 (BatchNo  (None, 19, 19, 64)  256         ['separable_conv2d_9[0][0]']     \n",
      " rmalization)                                                                                     \n",
      "                                                                                                  \n",
      " batch_normalization_11 (BatchN  (None, 19, 19, 64)  256         ['separable_conv2d_11[0][0]']    \n",
      " ormalization)                                                                                    \n",
      "                                                                                                  \n",
      " max_pooling2d_7 (MaxPooling2D)  (None, 10, 10, 64)  0           ['batch_normalization_7[0][0]']  \n",
      "                                                                                                  \n",
      " max_pooling2d_9 (MaxPooling2D)  (None, 10, 10, 64)  0           ['batch_normalization_9[0][0]']  \n",
      "                                                                                                  \n",
      " max_pooling2d_11 (MaxPooling2D  (None, 10, 10, 64)  0           ['batch_normalization_11[0][0]'] \n",
      " )                                                                                                \n",
      "                                                                                                  \n",
      " activation_7 (Activation)      (None, 10, 10, 64)   0           ['max_pooling2d_7[0][0]']        \n",
      "                                                                                                  \n",
      " activation_9 (Activation)      (None, 10, 10, 64)   0           ['max_pooling2d_9[0][0]']        \n",
      "                                                                                                  \n",
      " activation_11 (Activation)     (None, 10, 10, 64)   0           ['max_pooling2d_11[0][0]']       \n",
      "                                                                                                  \n",
      " dropout_3 (Dropout)            (None, 10, 10, 64)   0           ['activation_7[0][0]']           \n",
      "                                                                                                  \n",
      " dropout_4 (Dropout)            (None, 10, 10, 64)   0           ['activation_9[0][0]']           \n",
      "                                                                                                  \n",
      " dropout_5 (Dropout)            (None, 10, 10, 64)   0           ['activation_11[0][0]']          \n",
      "                                                                                                  \n",
      " flatten_3 (Flatten)            (None, 6400)         0           ['dropout_3[0][0]']              \n",
      "                                                                                                  \n",
      " flatten_4 (Flatten)            (None, 6400)         0           ['dropout_4[0][0]']              \n",
      "                                                                                                  \n",
      " flatten_5 (Flatten)            (None, 6400)         0           ['dropout_5[0][0]']              \n",
      "                                                                                                  \n",
      " Concat1 (Concatenate)          (None, 19200)        0           ['flatten_3[0][0]',              \n",
      "                                                                  'flatten_4[0][0]',              \n",
      "                                                                  'flatten_5[0][0]']              \n",
      "                                                                                                  \n",
      " Flatten1 (Flatten)             (None, 19200)        0           ['Concat1[0][0]']                \n",
      "                                                                                                  \n",
      " dense_1 (Dense)                (None, 2)            38402       ['Flatten1[0][0]']               \n",
      "                                                                                                  \n",
      "==================================================================================================\n",
      "Total params: 46,802\n",
      "Trainable params: 46,226\n",
      "Non-trainable params: 576\n",
      "__________________________________________________________________________________________________\n"
     ]
    }
   ],
   "source": [
    "from tensorflow.keras.layers import Conv2D, SeparableConv2D, MaxPooling2D, UpSampling2D, Cropping2D, Conv3D, MaxPooling3D, UpSampling3D, Cropping3D, Input, Concatenate, Flatten, Dense, Dropout, BatchNormalization, Activation, BatchNormalization, GlobalAveragePooling2D, GlobalAveragePooling3D, add\n",
    "from tensorflow.keras.models import Model\n",
    "from tensorflow.keras.regularizers import l2\n",
    "from tensorflow.keras.optimizers import Adam\n",
    "\n",
    "\n",
    "def Slices_network(inputs, i, padding='same'):\n",
    "    x = inputs[:,i,:,:]\n",
    "    num_filters = 32\n",
    "    print(x.shape)\n",
    "    x = SeparableConv2D(filters=num_filters, kernel_size=(4,4), strides=1, padding=padding)(x)\n",
    "    print(x.shape)\n",
    "    x = BatchNormalization()(x)\n",
    "    print(x.shape)\n",
    "    x = MaxPooling2D(pool_size=(2,2), strides=2)(x)\n",
    "    print(x.shape)\n",
    "    x = Activation('relu')(x)\n",
    "    \n",
    "    num_filters *= 2\n",
    "    x = SeparableConv2D(filters=num_filters, kernel_size=(2,2), strides=1)(x)\n",
    "    x = BatchNormalization()(x)\n",
    "    x = MaxPooling2D(pool_size=(2,2), strides=2, padding='same')(x)\n",
    "    x = Activation('relu')(x)\n",
    "    \n",
    "    x = Dropout(0.2)(x)\n",
    "    x = Flatten()(x)\n",
    "    return x\n",
    "\n",
    "def create_model_2D_epsilon(input_size, padding='same', nb_class=2):\n",
    "    inputs = Input(shape=input_size)\n",
    "    nb_slices = inputs.shape[1]\n",
    "    out_list = []\n",
    "    for i in range(nb_slices):\n",
    "        out_list.append(Slices_network(inputs=inputs, i=i, padding='same'))\n",
    "\n",
    "    print(\"iiiii\")\n",
    "    x = Concatenate(name = \"Concat1\")(out_list)\n",
    "    print(x.shape)\n",
    "    x = Flatten(name = \"Flatten1\")(x)\n",
    "    print(x.shape)\n",
    "    outputs = Dense(nb_class, activation='softmax')(x)\n",
    "    print(outputs.shape)\n",
    "    return Model(inputs, outputs)\n",
    "\n",
    "    \n",
    "model2 = create_model_2D_epsilon(X_train[0].shape)\n",
    "model2.summary()\n",
    "model2.compile(optimizer=Adam(1e-4), loss='binary_crossentropy', metrics=['accuracy'])\n",
    "     "
   ]
  },
  {
   "cell_type": "code",
   "execution_count": 15,
   "id": "32ed7111",
   "metadata": {},
   "outputs": [],
   "source": [
    "#history2 = model2.fit(X_data, Y_data, epochs=30)"
   ]
  },
  {
   "cell_type": "code",
   "execution_count": 16,
   "id": "f1fc0640",
   "metadata": {},
   "outputs": [],
   "source": [
    "def get_data_MCI(path):\n",
    "    data = pd.read_csv(path, names= ['Subject ID', 'Rooster ID', 'Age', 'Sexe', 'Group', 'Conversion', 'MMSE', 'RAVLT', 'FAQ', 'CDR-SB', 'ADAS11'], usecols = ['Subject ID', 'Rooster ID', 'Group','Conversion'])\n",
    "    data.index = data['Subject ID']\n",
    "    data = data.drop(['Subject ID'], axis=1)\n",
    "    data = data[((data['Conversion'] == 1) | (data['Conversion'] == 2) | (data['Conversion'] == 3) | (data['Conversion'] == 4))]\n",
    "    return data"
   ]
  },
  {
   "cell_type": "code",
   "execution_count": 17,
   "id": "7cf0e068",
   "metadata": {},
   "outputs": [
    {
     "name": "stdout",
     "output_type": "stream",
     "text": [
      "(300, 3)\n"
     ]
    }
   ],
   "source": [
    "path = str(Path().resolve()) + \"/ADNI1/list_standardized_tongtong_2017.csv\"\n",
    "y_data_MCI = get_data_MCI(path)\n",
    "y_data_MCI.head()\n",
    "print(y_data_MCI.shape)"
   ]
  },
  {
   "cell_type": "code",
   "execution_count": 18,
   "id": "d98a0654",
   "metadata": {},
   "outputs": [],
   "source": [
    "from tensorflow.keras.utils import to_categorical\n",
    "\n",
    "\n",
    "def Data_preparation_MCI(Y, epsilon=1):\n",
    "    X_data = []\n",
    "    Y_data = []\n",
    "    \n",
    "    path = str(Path().resolve()) + \"/ADNI1\"\n",
    "    for index, _ in Y.iterrows():\n",
    "        filename = path + '/n_mmni_fADNI_' + index + '_1.5T_t1w.nii.gz'\n",
    "        \n",
    "        if os.path.isfile(filename):\n",
    "            img_n_mmni = nib.load(filename)\n",
    "        \n",
    "            \n",
    "            for i in range(-3,3):\n",
    "                img_3_projections = []\n",
    "                img_slices_data = sagital_adjacent_slices(img_n_mmni, 60+i, epsilon, (90+i,130+i), (30+i,70+i))\n",
    "                img_3_projections.append(img_slices_data)\n",
    "                \n",
    "                img_slices_data = coronal_adjacent_slices(img_n_mmni, (40+i,80+i), 110+i, epsilon, (30+i,70+i))\n",
    "                img_3_projections.append(img_slices_data)\n",
    "                \n",
    "                img_slices_data = axial_adjacent_slices(img_n_mmni, (40+i,80+i), (90+i,130+i), 60+i, epsilon)\n",
    "                img_3_projections.append(img_slices_data)\n",
    "                \n",
    "                img_3_projections = np.array(img_3_projections)\n",
    "                X_data.append(img_3_projections)\n",
    "\n",
    "                if Y['Conversion'][index] == 1 | Y['Conversion'][index] == 2 | Y['Conversion'][index] == 3 : # pMCI\n",
    "                    Y_data.append(1)\n",
    "                elif Y['Conversion'][index] == 4 : #sMCI\n",
    "                    Y_data.append(0)    \n",
    "\n",
    "            \n",
    "            for i in range(-3,3):\n",
    "                img_3_projections = []\n",
    "\n",
    "                img_slices_data = sagital_adjacent_slices(img_n_mmni, 120+i, epsilon, (90+i,130+i), (30+i,70+i))\n",
    "                img_slices_data = img_slices_data[:, :, ::-1]\n",
    "                img_3_projections.append(img_slices_data)\n",
    "                \n",
    "                img_slices_data = coronal_adjacent_slices(img_n_mmni, (100+i,140+i), 110+i, epsilon, (30+i,70+i))\n",
    "                img_slices_data = img_slices_data[::-1, :, :]\n",
    "                img_3_projections.append(img_slices_data)\n",
    "                \n",
    "                img_slices_data = axial_adjacent_slices(img_n_mmni,(100+i,140+i), (90+i,130+i), 60+i, epsilon)\n",
    "                img_slices_data = img_slices_data[::-1, :, :]\n",
    "                img_3_projections.append(img_slices_data)\n",
    "                \n",
    "                img_3_projections = np.array(img_3_projections)\n",
    "                X_data.append(img_3_projections)\n",
    "\n",
    "                if Y['Conversion'][index] == 1 | Y['Conversion'][index] == 2 | Y['Conversion'][index] == 3 : # pMCI\n",
    "                    Y_data.append(1)\n",
    "                elif Y['Conversion'][index] == 4 : #sMCI\n",
    "                    Y_data.append(0)    \n",
    "        \n",
    "    X_data = np.array(X_data)   \n",
    "    return X_data, Y_data\n"
   ]
  },
  {
   "cell_type": "code",
   "execution_count": 19,
   "id": "dc32b2de",
   "metadata": {},
   "outputs": [
    {
     "name": "stdout",
     "output_type": "stream",
     "text": [
      "(3600, 3, 40, 40, 3)\n",
      "3600\n"
     ]
    }
   ],
   "source": [
    "X_data_MCI, Y_data_MCI = Data_preparation_MCI(y_data_MCI,  epsilon = 4) \n",
    "Y_data_MCI = to_categorical(Y_data_MCI, num_classes=2)\n",
    "\n",
    "print(X_data_MCI.shape)\n",
    "print(len(Y_data_MCI))"
   ]
  },
  {
   "cell_type": "code",
   "execution_count": 20,
   "id": "cf24073f",
   "metadata": {},
   "outputs": [],
   "source": [
    "# on garde seulement une colonne pour y \n",
    "y_data_MCI = np.argmax(Y_data_MCI, axis= 1)"
   ]
  },
  {
   "cell_type": "code",
   "execution_count": 21,
   "id": "3b082a9e",
   "metadata": {},
   "outputs": [
    {
     "name": "stdout",
     "output_type": "stream",
     "text": [
      "113/113 [==============================] - 0s 2ms/step\n"
     ]
    }
   ],
   "source": [
    "ypred_model2 = model.predict(X_data_MCI)"
   ]
  },
  {
   "cell_type": "code",
   "execution_count": 22,
   "id": "4858893c",
   "metadata": {},
   "outputs": [],
   "source": [
    "ypred_model2 = np.where(ypred_model2 > 0.5, 1, 0)"
   ]
  },
  {
   "cell_type": "code",
   "execution_count": 23,
   "id": "9506ce6a",
   "metadata": {},
   "outputs": [
    {
     "name": "stdout",
     "output_type": "stream",
     "text": [
      "accuracy on MCI data based on CN and AD training: 0.6163888888888889 \n"
     ]
    }
   ],
   "source": [
    "from sklearn.metrics import accuracy_score\n",
    "ypred_model2 = np.argmax(ypred_model2, axis= 1)\n",
    "\n",
    "acc_model2 = accuracy_score(ypred_model2, y_data_MCI)\n",
    "\n",
    "print('accuracy on MCI data based on CN and AD training: {} '.format(acc_model2))"
   ]
  },
  {
   "cell_type": "code",
   "execution_count": 24,
   "id": "feae7fcd",
   "metadata": {},
   "outputs": [
    {
     "name": "stdout",
     "output_type": "stream",
     "text": [
      "[[1121  427]\n",
      " [ 954 1098]]\n"
     ]
    },
    {
     "data": {
      "image/png": "[encoded data removed]",
      "text/plain": [
       "<Figure size 640x480 with 2 Axes>"
      ]
     },
     "metadata": {},
     "output_type": "display_data"
    }
   ],
   "source": [
    "\n",
    "cf_matrix = confusion_matrix(y_data_MCI, ypred_model2)\n",
    "print(cf_matrix)\n",
    "ax = sns.heatmap(cf_matrix/np.sum(cf_matrix), annot=True, \n",
    "            fmt='.2%', cmap='Blues')\n",
    "plt.show()\n"
   ]
  }
 ],
 "metadata": {
  "kernelspec": {
   "display_name": "Python 3 (ipykernel)",
   "language": "python",
   "name": "python3"
  },
  "language_info": {
   "codemirror_mode": {
    "name": "ipython",
    "version": 3
   },
   "file_extension": ".py",
   "mimetype": "text/x-python",
   "name": "python",
   "nbconvert_exporter": "python",
   "pygments_lexer": "ipython3",
   "version": "3.10.6"
  },
  "vscode": {
   "interpreter": {
    "hash": "916dbcbb3f70747c44a77c7bcd40155683ae19c65e1c03b4aa3499c5328201f1"
   }
  }
 },
 "nbformat": 4,
 "nbformat_minor": 5
}
