{
 "cells": [
  {
   "cell_type": "code",
   "execution_count": 1,
   "id": "d79c2be5",
   "metadata": {},
   "outputs": [],
   "source": [
    "import os \n",
    "from pathlib import Path\n",
    "import numpy as np\n",
    "import nibabel as nib\n",
    "import matplotlib.pyplot as plt\n",
    "import pandas as pd"
   ]
  },
  {
   "cell_type": "code",
   "execution_count": 2,
   "id": "ade9ce97",
   "metadata": {},
   "outputs": [],
   "source": [
    "def get_data(path):\n",
    "    data = pd.read_csv(path, names= ['Subject ID', 'Rooster ID', 'Age', 'Sexe', 'Group', 'Conversion', 'MMSE', 'RAVLT', 'FAQ', 'CDR-SB', 'ADAS11'], usecols = ['Subject ID', 'Rooster ID', 'Group'])\n",
    "    data.index = data['Subject ID']\n",
    "    data = data.drop(['Subject ID'], axis=1)\n",
    "    data = data[((data.Group == 'AD') | (data.Group == 'CN'))]\n",
    "    return data\n"
   ]
  },
  {
   "cell_type": "code",
   "execution_count": 3,
   "id": "858bfc7a",
   "metadata": {},
   "outputs": [],
   "source": [
    "path = str(Path().resolve())\n",
    "path = path + \"/ADNI1/\"\n",
    "filename = os.listdir(path)[2]\n",
    "n_mmni_filename = os.path.join(path, filename)\n",
    "img_n_mmni = nib.load(n_mmni_filename)\n"
   ]
  },
  {
   "cell_type": "code",
   "execution_count": 4,
   "id": "b726872d",
   "metadata": {},
   "outputs": [
    {
     "data": {
      "text/html": [
       "<div>\n",
       "<style scoped>\n",
       "    .dataframe tbody tr th:only-of-type {\n",
       "        vertical-align: middle;\n",
       "    }\n",
       "\n",
       "    .dataframe tbody tr th {\n",
       "        vertical-align: top;\n",
       "    }\n",
       "\n",
       "    .dataframe thead th {\n",
       "        text-align: right;\n",
       "    }\n",
       "</style>\n",
       "<table border=\"1\" class=\"dataframe\">\n",
       "  <thead>\n",
       "    <tr style=\"text-align: right;\">\n",
       "      <th></th>\n",
       "      <th>Rooster ID</th>\n",
       "      <th>Group</th>\n",
       "    </tr>\n",
       "    <tr>\n",
       "      <th>Subject ID</th>\n",
       "      <th></th>\n",
       "      <th></th>\n",
       "    </tr>\n",
       "  </thead>\n",
       "  <tbody>\n",
       "    <tr>\n",
       "      <th>002_S_0295</th>\n",
       "      <td>295</td>\n",
       "      <td>CN</td>\n",
       "    </tr>\n",
       "    <tr>\n",
       "      <th>002_S_0413</th>\n",
       "      <td>413</td>\n",
       "      <td>CN</td>\n",
       "    </tr>\n",
       "    <tr>\n",
       "      <th>002_S_0559</th>\n",
       "      <td>559</td>\n",
       "      <td>CN</td>\n",
       "    </tr>\n",
       "    <tr>\n",
       "      <th>002_S_0619</th>\n",
       "      <td>619</td>\n",
       "      <td>AD</td>\n",
       "    </tr>\n",
       "    <tr>\n",
       "      <th>002_S_0685</th>\n",
       "      <td>685</td>\n",
       "      <td>CN</td>\n",
       "    </tr>\n",
       "  </tbody>\n",
       "</table>\n",
       "</div>"
      ],
      "text/plain": [
       "            Rooster ID Group\n",
       "Subject ID                  \n",
       "002_S_0295         295    CN\n",
       "002_S_0413         413    CN\n",
       "002_S_0559         559    CN\n",
       "002_S_0619         619    AD\n",
       "002_S_0685         685    CN"
      ]
     },
     "execution_count": 4,
     "metadata": {},
     "output_type": "execute_result"
    }
   ],
   "source": [
    "path = str(Path().resolve()) + \"/ADNI1/list_standardized_tongtong_2017.csv\"\n",
    "y_data = get_data(path)\n",
    "y_data.head()\n"
   ]
  },
  {
   "cell_type": "markdown",
   "id": "3e6e2a03-b62f-41ee-aee4-9ac3ebabbf08",
   "metadata": {},
   "source": [
    "# Data preparation & splitting "
   ]
  },
  {
   "cell_type": "code",
   "execution_count": 5,
   "id": "55e167d8",
   "metadata": {},
   "outputs": [
    {
     "name": "stderr",
     "output_type": "stream",
     "text": [
      "2022-12-12 09:29:25.563858: I tensorflow/core/platform/cpu_feature_guard.cc:193] This TensorFlow binary is optimized with oneAPI Deep Neural Network Library (oneDNN) to use the following CPU instructions in performance-critical operations:  AVX2 FMA\n",
      "To enable them in other operations, rebuild TensorFlow with the appropriate compiler flags.\n",
      "2022-12-12 09:29:26.479908: W tensorflow/compiler/xla/stream_executor/platform/default/dso_loader.cc:64] Could not load dynamic library 'libnvinfer.so.7'; dlerror: libnvinfer.so.7: cannot open shared object file: No such file or directory; LD_LIBRARY_PATH: :/home/coleger/miniconda3/envs/tf/lib/\n",
      "2022-12-12 09:29:26.479970: W tensorflow/compiler/xla/stream_executor/platform/default/dso_loader.cc:64] Could not load dynamic library 'libnvinfer_plugin.so.7'; dlerror: libnvinfer_plugin.so.7: cannot open shared object file: No such file or directory; LD_LIBRARY_PATH: :/home/coleger/miniconda3/envs/tf/lib/\n",
      "2022-12-12 09:29:26.479976: W tensorflow/compiler/tf2tensorrt/utils/py_utils.cc:38] TF-TRT Warning: Cannot dlopen some TensorRT libraries. If you would like to use Nvidia GPU with TensorRT, please make sure the missing libraries mentioned above are installed properly.\n"
     ]
    }
   ],
   "source": [
    "from tensorflow.keras.utils import to_categorical\n",
    "\n",
    "\n",
    "def Data_preparation(Y):\n",
    "    X_data = []\n",
    "    Y_data = []\n",
    "    \n",
    "    path = str(Path().resolve()) + \"/ADNI1\"\n",
    "    for index, _ in Y.iterrows():\n",
    "        filename = path + '/n_mmni_fADNI_' + index + '_1.5T_t1w.nii.gz'\n",
    "        \n",
    "        if os.path.isfile(filename):\n",
    "            img_n_mmni = nib.load(filename).get_fdata()\n",
    "            \n",
    "            # region n°1 :\n",
    "            \n",
    "            region1 = img_n_mmni[40:80,90:130,90:130]\n",
    "            X_data.append(region1)\n",
    "            if Y['Group'][index] == 'AD':\n",
    "                Y_data.append(1)\n",
    "            elif Y['Group'][index] == 'CN':\n",
    "                Y_data.append(0)\n",
    "            \n",
    "            \n",
    "            # region n°2 :\n",
    "            \n",
    "            region2 = img_n_mmni[100:140,90:130,90:130]\n",
    "            X_data.append(region2)\n",
    "            if Y['Group'][index] == 'AD':\n",
    "                Y_data.append(1)\n",
    "            elif Y['Group'][index] == 'CN':\n",
    "                Y_data.append(0)    \n",
    "            \n",
    "        else:\n",
    "            Y.drop(index, inplace=True)\n",
    "        \n",
    "    X_data = np.array(X_data)   \n",
    "    return X_data, Y_data\n",
    "\n",
    "\n",
    "\n"
   ]
  },
  {
   "cell_type": "code",
   "execution_count": 6,
   "id": "14032a65",
   "metadata": {},
   "outputs": [
    {
     "name": "stdout",
     "output_type": "stream",
     "text": [
      "(838, 40, 40, 40)\n",
      "838\n"
     ]
    }
   ],
   "source": [
    "X_data, Y_data = Data_preparation(y_data)\n",
    "Y_data = to_categorical(Y_data, num_classes=2)\n",
    "\n",
    "print(X_data.shape)\n",
    "print(len(Y_data))"
   ]
  },
  {
   "cell_type": "code",
   "execution_count": 7,
   "id": "0f3a898c-28e2-4578-878b-ba57c228e9c5",
   "metadata": {},
   "outputs": [
    {
     "name": "stdout",
     "output_type": "stream",
     "text": [
      "(40, 40, 40)\n",
      "(40, 40, 40)\n"
     ]
    }
   ],
   "source": [
    "print(X_data[0].shape)\n",
    "print(X_data[1].shape)\n",
    "\n"
   ]
  },
  {
   "cell_type": "code",
   "execution_count": 8,
   "id": "a587e272-0333-442a-9064-dad1690a1449",
   "metadata": {},
   "outputs": [],
   "source": [
    "# on garde seulement une colonne pour y \n",
    "y_data = np.argmax(Y_data, axis= 1)"
   ]
  },
  {
   "cell_type": "code",
   "execution_count": 9,
   "id": "3e607848",
   "metadata": {},
   "outputs": [
    {
     "name": "stdout",
     "output_type": "stream",
     "text": [
      "Data splited, length of training data is:  670\n",
      "Data splited, length of test data is:  168\n"
     ]
    }
   ],
   "source": [
    "from sklearn.model_selection import train_test_split\n",
    "\n",
    "X_train, X_test, y_train, y_test = train_test_split(X_data, y_data, test_size=0.2, random_state=49) \n",
    "\n",
    "print(\"Data splited, length of training data is: \", len(X_train))\n",
    "print(\"Data splited, length of test data is: \", len(X_test))"
   ]
  },
  {
   "cell_type": "markdown",
   "id": "84f8b232-5540-49a8-9aef-e3c858492793",
   "metadata": {},
   "source": [
    "# Creation and evaluation of Conv3D model"
   ]
  },
  {
   "cell_type": "code",
   "execution_count": 10,
   "id": "9adcde85",
   "metadata": {},
   "outputs": [
    {
     "name": "stderr",
     "output_type": "stream",
     "text": [
      "2022-12-12 09:30:34.137411: I tensorflow/compiler/xla/stream_executor/cuda/cuda_gpu_executor.cc:981] successful NUMA node read from SysFS had negative value (-1), but there must be at least one NUMA node, so returning NUMA node zero\n",
      "2022-12-12 09:30:34.158434: I tensorflow/compiler/xla/stream_executor/cuda/cuda_gpu_executor.cc:981] successful NUMA node read from SysFS had negative value (-1), but there must be at least one NUMA node, so returning NUMA node zero\n",
      "2022-12-12 09:30:34.158600: I tensorflow/compiler/xla/stream_executor/cuda/cuda_gpu_executor.cc:981] successful NUMA node read from SysFS had negative value (-1), but there must be at least one NUMA node, so returning NUMA node zero\n",
      "2022-12-12 09:30:34.159803: I tensorflow/core/platform/cpu_feature_guard.cc:193] This TensorFlow binary is optimized with oneAPI Deep Neural Network Library (oneDNN) to use the following CPU instructions in performance-critical operations:  AVX2 FMA\n",
      "To enable them in other operations, rebuild TensorFlow with the appropriate compiler flags.\n",
      "2022-12-12 09:30:34.160680: I tensorflow/compiler/xla/stream_executor/cuda/cuda_gpu_executor.cc:981] successful NUMA node read from SysFS had negative value (-1), but there must be at least one NUMA node, so returning NUMA node zero\n",
      "2022-12-12 09:30:34.160840: I tensorflow/compiler/xla/stream_executor/cuda/cuda_gpu_executor.cc:981] successful NUMA node read from SysFS had negative value (-1), but there must be at least one NUMA node, so returning NUMA node zero\n",
      "2022-12-12 09:30:34.160980: I tensorflow/compiler/xla/stream_executor/cuda/cuda_gpu_executor.cc:981] successful NUMA node read from SysFS had negative value (-1), but there must be at least one NUMA node, so returning NUMA node zero\n",
      "2022-12-12 09:30:34.702801: I tensorflow/compiler/xla/stream_executor/cuda/cuda_gpu_executor.cc:981] successful NUMA node read from SysFS had negative value (-1), but there must be at least one NUMA node, so returning NUMA node zero\n",
      "2022-12-12 09:30:34.703139: I tensorflow/compiler/xla/stream_executor/cuda/cuda_gpu_executor.cc:981] successful NUMA node read from SysFS had negative value (-1), but there must be at least one NUMA node, so returning NUMA node zero\n",
      "2022-12-12 09:30:34.703237: I tensorflow/compiler/xla/stream_executor/cuda/cuda_gpu_executor.cc:981] successful NUMA node read from SysFS had negative value (-1), but there must be at least one NUMA node, so returning NUMA node zero\n",
      "2022-12-12 09:30:34.703611: I tensorflow/core/common_runtime/gpu/gpu_device.cc:1613] Created device /job:localhost/replica:0/task:0/device:GPU:0 with 10222 MB memory:  -> device: 0, name: NVIDIA GeForce RTX 3060, pci bus id: 0000:01:00.0, compute capability: 8.6\n"
     ]
    },
    {
     "name": "stdout",
     "output_type": "stream",
     "text": [
      "Model: \"sequential\"\n",
      "_________________________________________________________________\n",
      " Layer (type)                Output Shape              Param #   \n",
      "=================================================================\n",
      " conv3d (Conv3D)             (None, 38, 38, 38, 32)    896       \n",
      "                                                                 \n",
      " max_pooling3d (MaxPooling3D  (None, 19, 19, 19, 32)   0         \n",
      " )                                                               \n",
      "                                                                 \n",
      " batch_normalization (BatchN  (None, 19, 19, 19, 32)   128       \n",
      " ormalization)                                                   \n",
      "                                                                 \n",
      " dropout (Dropout)           (None, 19, 19, 19, 32)    0         \n",
      "                                                                 \n",
      " conv3d_1 (Conv3D)           (None, 17, 17, 17, 64)    55360     \n",
      "                                                                 \n",
      " max_pooling3d_1 (MaxPooling  (None, 8, 8, 8, 64)      0         \n",
      " 3D)                                                             \n",
      "                                                                 \n",
      " batch_normalization_1 (Batc  (None, 8, 8, 8, 64)      256       \n",
      " hNormalization)                                                 \n",
      "                                                                 \n",
      " dropout_1 (Dropout)         (None, 8, 8, 8, 64)       0         \n",
      "                                                                 \n",
      " conv3d_2 (Conv3D)           (None, 6, 6, 6, 128)      221312    \n",
      "                                                                 \n",
      " max_pooling3d_2 (MaxPooling  (None, 3, 3, 3, 128)     0         \n",
      " 3D)                                                             \n",
      "                                                                 \n",
      " batch_normalization_2 (Batc  (None, 3, 3, 3, 128)     512       \n",
      " hNormalization)                                                 \n",
      "                                                                 \n",
      " dropout_2 (Dropout)         (None, 3, 3, 3, 128)      0         \n",
      "                                                                 \n",
      " flatten (Flatten)           (None, 3456)              0         \n",
      "                                                                 \n",
      " dense (Dense)               (None, 256)               884992    \n",
      "                                                                 \n",
      " dense_1 (Dense)             (None, 128)               32896     \n",
      "                                                                 \n",
      " dense_2 (Dense)             (None, 1)                 129       \n",
      "                                                                 \n",
      "=================================================================\n",
      "Total params: 1,196,481\n",
      "Trainable params: 1,196,033\n",
      "Non-trainable params: 448\n",
      "_________________________________________________________________\n"
     ]
    }
   ],
   "source": [
    "import keras\n",
    "from keras.models import Sequential\n",
    "from keras.layers import Dense, Flatten, Conv3D, MaxPooling3D, Dropout, BatchNormalization\n",
    "\n",
    "model = Sequential()\n",
    "# Couches de convolution + MaxPooling\n",
    "model.add(Conv3D(32, kernel_size=(3, 3, 3), activation='relu', kernel_initializer='he_uniform', input_shape=(40,40,40,1)))\n",
    "# input shape = (batch_size, channels, dim1, dim2,dim3)\n",
    "model.add(MaxPooling3D(pool_size=(2, 2, 2)))\n",
    "model.add(BatchNormalization(center=True, scale=True))\n",
    "model.add(Dropout(0.3))\n",
    "model.add(Conv3D(64, kernel_size=(3, 3, 3), activation='relu', kernel_initializer='he_uniform'))\n",
    "model.add(MaxPooling3D(pool_size=(2, 2, 2)))\n",
    "model.add(BatchNormalization(center=True, scale=True))\n",
    "model.add(Dropout(0.3))\n",
    "model.add(Conv3D(128, kernel_size=(3, 3, 3), activation='relu', kernel_initializer='he_uniform'))\n",
    "model.add(MaxPooling3D(pool_size=(2, 2, 2)))\n",
    "model.add(BatchNormalization(center=True, scale=True))\n",
    "model.add(Dropout(0.3))\n",
    "# Couches de classification\n",
    "model.add(Flatten())\n",
    "model.add(Dense(256, activation='relu', kernel_initializer='he_uniform'))\n",
    "model.add(Dense(128, activation='relu', kernel_initializer='he_uniform'))\n",
    "model.add(Dense(1, activation='sigmoid'))\n",
    "\n",
    "# Compile the model\n",
    "model.compile(loss='binary_crossentropy',\n",
    "              optimizer=keras.optimizers.Adam(learning_rate=0.001),\n",
    "              metrics=['accuracy'])\n",
    "model.summary()\n",
    "\n",
    "    "
   ]
  },
  {
   "cell_type": "markdown",
   "id": "063b7a42-f414-431d-badf-2bfa8ea3ba09",
   "metadata": {},
   "source": [
    "# Training and evaluation with 80% of CN et AD data "
   ]
  },
  {
   "cell_type": "code",
   "execution_count": 11,
   "id": "9dc6cc62",
   "metadata": {},
   "outputs": [
    {
     "name": "stdout",
     "output_type": "stream",
     "text": [
      "Epoch 1/100\n"
     ]
    },
    {
     "name": "stderr",
     "output_type": "stream",
     "text": [
      "2022-12-12 09:30:36.537780: I tensorflow/compiler/xla/stream_executor/cuda/cuda_dnn.cc:428] Loaded cuDNN version 8100\n",
      "2022-12-12 09:30:37.345370: I tensorflow/tsl/platform/default/subprocess.cc:304] Start cannot spawn child process: No such file or directory\n",
      "2022-12-12 09:30:38.140169: I tensorflow/compiler/xla/stream_executor/cuda/cuda_blas.cc:630] TensorFloat-32 will be used for the matrix multiplication. This will only be logged once.\n"
     ]
    },
    {
     "name": "stdout",
     "output_type": "stream",
     "text": [
      "21/21 [==============================] - 6s 101ms/step - loss: 1.0007 - accuracy: 0.5299 - val_loss: 1.9032 - val_accuracy: 0.4583\n",
      "Epoch 2/100\n",
      "21/21 [==============================] - 1s 59ms/step - loss: 0.7012 - accuracy: 0.6194 - val_loss: 1.0096 - val_accuracy: 0.5774\n",
      "Epoch 3/100\n",
      "21/21 [==============================] - 1s 59ms/step - loss: 0.6423 - accuracy: 0.6448 - val_loss: 3.1521 - val_accuracy: 0.5476\n",
      "Epoch 4/100\n",
      "21/21 [==============================] - 1s 58ms/step - loss: 0.5701 - accuracy: 0.7119 - val_loss: 5.3643 - val_accuracy: 0.5476\n",
      "Epoch 5/100\n",
      "21/21 [==============================] - 1s 59ms/step - loss: 0.6121 - accuracy: 0.6851 - val_loss: 1.8131 - val_accuracy: 0.4464\n",
      "Epoch 6/100\n",
      "21/21 [==============================] - 1s 59ms/step - loss: 0.5654 - accuracy: 0.7090 - val_loss: 1.3179 - val_accuracy: 0.5238\n",
      "Epoch 7/100\n",
      "21/21 [==============================] - 1s 59ms/step - loss: 0.4959 - accuracy: 0.7522 - val_loss: 1.2193 - val_accuracy: 0.4583\n",
      "Epoch 8/100\n",
      "21/21 [==============================] - 1s 59ms/step - loss: 0.4474 - accuracy: 0.7806 - val_loss: 1.4137 - val_accuracy: 0.5833\n",
      "Epoch 9/100\n",
      "21/21 [==============================] - 1s 59ms/step - loss: 0.3852 - accuracy: 0.8313 - val_loss: 2.3469 - val_accuracy: 0.5536\n",
      "Epoch 10/100\n",
      "21/21 [==============================] - 1s 59ms/step - loss: 0.3833 - accuracy: 0.8269 - val_loss: 0.9543 - val_accuracy: 0.6131\n",
      "Epoch 11/100\n",
      "21/21 [==============================] - 1s 59ms/step - loss: 0.3535 - accuracy: 0.8313 - val_loss: 0.8855 - val_accuracy: 0.5952\n",
      "Epoch 12/100\n",
      "21/21 [==============================] - 1s 59ms/step - loss: 0.3199 - accuracy: 0.8642 - val_loss: 0.9669 - val_accuracy: 0.6190\n",
      "Epoch 13/100\n",
      "21/21 [==============================] - 1s 59ms/step - loss: 0.2088 - accuracy: 0.9299 - val_loss: 0.9205 - val_accuracy: 0.6845\n",
      "Epoch 14/100\n",
      "21/21 [==============================] - 1s 59ms/step - loss: 0.1765 - accuracy: 0.9224 - val_loss: 0.9127 - val_accuracy: 0.6369\n",
      "Epoch 15/100\n",
      "21/21 [==============================] - 1s 59ms/step - loss: 0.1692 - accuracy: 0.9269 - val_loss: 1.0408 - val_accuracy: 0.6310\n",
      "Epoch 16/100\n",
      "21/21 [==============================] - 1s 59ms/step - loss: 0.1784 - accuracy: 0.9388 - val_loss: 0.9428 - val_accuracy: 0.6250\n",
      "Epoch 17/100\n",
      "21/21 [==============================] - 1s 59ms/step - loss: 0.1740 - accuracy: 0.9388 - val_loss: 1.1740 - val_accuracy: 0.6310\n",
      "Epoch 18/100\n",
      "21/21 [==============================] - 1s 59ms/step - loss: 0.1474 - accuracy: 0.9463 - val_loss: 1.0888 - val_accuracy: 0.5952\n",
      "Epoch 19/100\n",
      "21/21 [==============================] - 1s 59ms/step - loss: 0.1397 - accuracy: 0.9522 - val_loss: 1.3882 - val_accuracy: 0.5417\n",
      "Epoch 20/100\n",
      "21/21 [==============================] - 1s 58ms/step - loss: 0.1001 - accuracy: 0.9582 - val_loss: 1.1010 - val_accuracy: 0.6012\n",
      "Epoch 21/100\n",
      "21/21 [==============================] - 1s 58ms/step - loss: 0.1203 - accuracy: 0.9597 - val_loss: 2.4905 - val_accuracy: 0.5179\n",
      "Epoch 22/100\n",
      "21/21 [==============================] - 1s 58ms/step - loss: 0.1179 - accuracy: 0.9478 - val_loss: 0.8576 - val_accuracy: 0.6786\n",
      "Epoch 23/100\n",
      "21/21 [==============================] - 1s 58ms/step - loss: 0.0981 - accuracy: 0.9612 - val_loss: 1.0383 - val_accuracy: 0.6131\n",
      "Epoch 24/100\n",
      "21/21 [==============================] - 1s 58ms/step - loss: 0.0563 - accuracy: 0.9896 - val_loss: 1.6392 - val_accuracy: 0.5536\n",
      "Epoch 25/100\n",
      "21/21 [==============================] - 1s 58ms/step - loss: 0.0863 - accuracy: 0.9716 - val_loss: 0.9573 - val_accuracy: 0.6786\n",
      "Epoch 26/100\n",
      "21/21 [==============================] - 1s 59ms/step - loss: 0.0722 - accuracy: 0.9776 - val_loss: 1.2228 - val_accuracy: 0.6548\n",
      "Epoch 27/100\n",
      "21/21 [==============================] - 1s 59ms/step - loss: 0.0556 - accuracy: 0.9866 - val_loss: 1.6145 - val_accuracy: 0.5655\n",
      "Epoch 28/100\n",
      "21/21 [==============================] - ETA: 0s - loss: 0.0514 - accuracy: 0.9821Restoring model weights from the end of the best epoch: 13.\n",
      "21/21 [==============================] - 1s 59ms/step - loss: 0.0514 - accuracy: 0.9821 - val_loss: 2.0052 - val_accuracy: 0.5476\n",
      "Epoch 28: early stopping\n"
     ]
    }
   ],
   "source": [
    "import tensorflow as tf\n",
    "# ajout d'un early stopping \n",
    "callback = tf.keras.callbacks.EarlyStopping(monitor='val_accuracy', patience=15, verbose=1, restore_best_weights=True)\n",
    "\n",
    "history = model.fit(X_train, y_train, epochs=100, validation_data=(X_test, y_test),callbacks=[callback],batch_size=32)"
   ]
  },
  {
   "cell_type": "markdown",
   "id": "dce39156-ffbf-452a-b38a-401177d65eaf",
   "metadata": {},
   "source": [
    "# Plotting metrics "
   ]
  },
  {
   "cell_type": "code",
   "execution_count": 12,
   "id": "6abd1773",
   "metadata": {},
   "outputs": [
    {
     "data": {
      "image/png": "[encoded data removed]",
      "text/plain": [
       "<Figure size 640x480 with 1 Axes>"
      ]
     },
     "metadata": {},
     "output_type": "display_data"
    },
    {
     "data": {
      "image/png": "[encoded data removed]",
      "text/plain": [
       "<Figure size 640x480 with 1 Axes>"
      ]
     },
     "metadata": {},
     "output_type": "display_data"
    }
   ],
   "source": [
    "def plot_loss_curves(history):\n",
    "    \n",
    "      \n",
    "    loss = history.history['loss']\n",
    "    val_loss = history.history['val_loss']\n",
    "\n",
    "    accuracy = history.history['accuracy']\n",
    "    val_accuracy = history.history['val_accuracy']\n",
    "\n",
    "    epochs = range(len(history.history['loss']))\n",
    "\n",
    "    # Plot loss\n",
    "    plt.plot(epochs, loss, label='training_loss')\n",
    "    plt.plot(epochs, val_loss, label='val_loss')\n",
    "    plt.title('Loss')\n",
    "    plt.xlabel('Epochs')\n",
    "    plt.legend()\n",
    "\n",
    "    # Plot accuracy\n",
    "    plt.figure()\n",
    "    plt.plot(epochs, accuracy, label='training_accuracy')\n",
    "    plt.plot(epochs, val_accuracy, label='val_accuracy')\n",
    "    plt.title('Accuracy')\n",
    "    plt.xlabel('Epochs')\n",
    "    plt.legend()\n",
    "\n",
    "plot_loss_curves(history)"
   ]
  },
  {
   "cell_type": "code",
   "execution_count": 13,
   "id": "879fd63a-73b5-4522-8a7b-48a6c58cb154",
   "metadata": {},
   "outputs": [
    {
     "name": "stdout",
     "output_type": "stream",
     "text": [
      " Best val_accuracy value : 0.6845238208770752 \n"
     ]
    }
   ],
   "source": [
    "best_val_accuracy = np.max(history.history['val_accuracy'])\n",
    "print(' Best val_accuracy value : {} '.format(best_val_accuracy))"
   ]
  },
  {
   "cell_type": "markdown",
   "id": "25171dd3-6e69-45c6-bc57-6ce99f3ce60a",
   "metadata": {},
   "source": [
    "# Training with whole AD and CN data"
   ]
  },
  {
   "cell_type": "code",
   "execution_count": 14,
   "id": "b704e06b-4248-4aba-a9b7-3aad962d048f",
   "metadata": {},
   "outputs": [
    {
     "name": "stdout",
     "output_type": "stream",
     "text": [
      "Model: \"sequential_1\"\n",
      "_________________________________________________________________\n",
      " Layer (type)                Output Shape              Param #   \n",
      "=================================================================\n",
      " conv3d_3 (Conv3D)           (None, 38, 38, 38, 32)    896       \n",
      "                                                                 \n",
      " max_pooling3d_3 (MaxPooling  (None, 19, 19, 19, 32)   0         \n",
      " 3D)                                                             \n",
      "                                                                 \n",
      " batch_normalization_3 (Batc  (None, 19, 19, 19, 32)   128       \n",
      " hNormalization)                                                 \n",
      "                                                                 \n",
      " dropout_3 (Dropout)         (None, 19, 19, 19, 32)    0         \n",
      "                                                                 \n",
      " conv3d_4 (Conv3D)           (None, 17, 17, 17, 64)    55360     \n",
      "                                                                 \n",
      " max_pooling3d_4 (MaxPooling  (None, 8, 8, 8, 64)      0         \n",
      " 3D)                                                             \n",
      "                                                                 \n",
      " batch_normalization_4 (Batc  (None, 8, 8, 8, 64)      256       \n",
      " hNormalization)                                                 \n",
      "                                                                 \n",
      " dropout_4 (Dropout)         (None, 8, 8, 8, 64)       0         \n",
      "                                                                 \n",
      " conv3d_5 (Conv3D)           (None, 6, 6, 6, 128)      221312    \n",
      "                                                                 \n",
      " max_pooling3d_5 (MaxPooling  (None, 3, 3, 3, 128)     0         \n",
      " 3D)                                                             \n",
      "                                                                 \n",
      " batch_normalization_5 (Batc  (None, 3, 3, 3, 128)     512       \n",
      " hNormalization)                                                 \n",
      "                                                                 \n",
      " dropout_5 (Dropout)         (None, 3, 3, 3, 128)      0         \n",
      "                                                                 \n",
      " flatten_1 (Flatten)         (None, 3456)              0         \n",
      "                                                                 \n",
      " dense_3 (Dense)             (None, 256)               884992    \n",
      "                                                                 \n",
      " dense_4 (Dense)             (None, 128)               32896     \n",
      "                                                                 \n",
      " dense_5 (Dense)             (None, 1)                 129       \n",
      "                                                                 \n",
      "=================================================================\n",
      "Total params: 1,196,481\n",
      "Trainable params: 1,196,033\n",
      "Non-trainable params: 448\n",
      "_________________________________________________________________\n"
     ]
    }
   ],
   "source": [
    "import keras\n",
    "from keras.models import Sequential\n",
    "from keras.layers import Dense, Flatten, Conv3D, MaxPooling3D, Dropout, BatchNormalization\n",
    "\n",
    "model2 = Sequential()\n",
    "# Couches de convolution + MaxPooling\n",
    "model2.add(Conv3D(32, kernel_size=(3, 3, 3), activation='relu', kernel_initializer='he_uniform', input_shape=(40,40,40,1)))\n",
    "# input shape = (batch_size, channels, dim1, dim2,dim3)\n",
    "model2.add(MaxPooling3D(pool_size=(2, 2, 2)))\n",
    "model2.add(BatchNormalization(center=True, scale=True))\n",
    "model2.add(Dropout(0.3))\n",
    "model2.add(Conv3D(64, kernel_size=(3, 3, 3), activation='relu', kernel_initializer='he_uniform'))\n",
    "model2.add(MaxPooling3D(pool_size=(2, 2, 2)))\n",
    "model2.add(BatchNormalization(center=True, scale=True))\n",
    "model2.add(Dropout(0.3))\n",
    "model2.add(Conv3D(128, kernel_size=(3, 3, 3), activation='relu', kernel_initializer='he_uniform'))\n",
    "model2.add(MaxPooling3D(pool_size=(2, 2, 2)))\n",
    "model2.add(BatchNormalization(center=True, scale=True))\n",
    "model2.add(Dropout(0.3))\n",
    "# Couches de classification\n",
    "model2.add(Flatten())\n",
    "model2.add(Dense(256, activation='relu', kernel_initializer='he_uniform'))\n",
    "model2.add(Dense(128, activation='relu', kernel_initializer='he_uniform'))\n",
    "model2.add(Dense(1, activation='sigmoid'))\n",
    "\n",
    "# Compile the model\n",
    "model2.compile(loss='binary_crossentropy',\n",
    "              optimizer=keras.optimizers.Adam(learning_rate=0.001),\n",
    "              metrics=['accuracy'])\n",
    "model2.summary()\n",
    "\n",
    "    "
   ]
  },
  {
   "cell_type": "code",
   "execution_count": 15,
   "id": "6851ec3e-2b19-44c0-a232-c03645e034d6",
   "metadata": {},
   "outputs": [
    {
     "name": "stdout",
     "output_type": "stream",
     "text": [
      "Epoch 1/20\n",
      "27/27 [==============================] - 2s 59ms/step - loss: 0.9108 - accuracy: 0.5847\n",
      "Epoch 2/20\n",
      "27/27 [==============================] - 1s 52ms/step - loss: 0.6655 - accuracy: 0.6301\n",
      "Epoch 3/20\n",
      "27/27 [==============================] - 1s 52ms/step - loss: 0.7127 - accuracy: 0.6217\n",
      "Epoch 4/20\n",
      "27/27 [==============================] - 1s 52ms/step - loss: 0.6116 - accuracy: 0.6635\n",
      "Epoch 5/20\n",
      "27/27 [==============================] - 1s 52ms/step - loss: 0.5843 - accuracy: 0.6957\n",
      "Epoch 6/20\n",
      "27/27 [==============================] - 1s 52ms/step - loss: 0.5254 - accuracy: 0.7387\n",
      "Epoch 7/20\n",
      "27/27 [==============================] - 1s 52ms/step - loss: 0.5127 - accuracy: 0.7494\n",
      "Epoch 8/20\n",
      "27/27 [==============================] - 1s 52ms/step - loss: 0.4590 - accuracy: 0.7828\n",
      "Epoch 9/20\n",
      "27/27 [==============================] - 1s 52ms/step - loss: 0.4333 - accuracy: 0.7924\n",
      "Epoch 10/20\n",
      "27/27 [==============================] - 1s 52ms/step - loss: 0.4220 - accuracy: 0.8079\n",
      "Epoch 11/20\n",
      "27/27 [==============================] - 1s 52ms/step - loss: 0.3263 - accuracy: 0.8663\n",
      "Epoch 12/20\n",
      "27/27 [==============================] - 1s 52ms/step - loss: 0.3111 - accuracy: 0.8568\n",
      "Epoch 13/20\n",
      "27/27 [==============================] - 1s 52ms/step - loss: 0.3241 - accuracy: 0.8568\n",
      "Epoch 14/20\n",
      "27/27 [==============================] - 1s 52ms/step - loss: 0.2907 - accuracy: 0.8711\n",
      "Epoch 15/20\n",
      "27/27 [==============================] - 1s 52ms/step - loss: 0.2038 - accuracy: 0.9212\n",
      "Epoch 16/20\n",
      "27/27 [==============================] - 1s 52ms/step - loss: 0.2052 - accuracy: 0.9236\n",
      "Epoch 17/20\n",
      "27/27 [==============================] - 1s 52ms/step - loss: 0.1614 - accuracy: 0.9403\n",
      "Epoch 18/20\n",
      "27/27 [==============================] - 1s 52ms/step - loss: 0.1892 - accuracy: 0.9224\n",
      "Epoch 19/20\n",
      "27/27 [==============================] - 1s 52ms/step - loss: 0.1721 - accuracy: 0.9368\n",
      "Epoch 20/20\n",
      "27/27 [==============================] - 1s 52ms/step - loss: 0.1618 - accuracy: 0.9320\n"
     ]
    }
   ],
   "source": [
    "history2 = model2.fit(X_data, y_data, epochs=20)"
   ]
  },
  {
   "cell_type": "markdown",
   "id": "f76cf6b9-6228-47f7-bd67-a071d8a18335",
   "metadata": {},
   "source": [
    "# Testing with pMCI et sMCI data "
   ]
  },
  {
   "cell_type": "markdown",
   "id": "07e50143-b0d6-4cb8-b214-be38ca71e28b",
   "metadata": {},
   "source": [
    "- pMCI ~ AD ==1\n",
    "- sMCI ~ CN ==0"
   ]
  },
  {
   "cell_type": "code",
   "execution_count": 16,
   "id": "0b16cad0-6f38-4e2f-b5e4-3c99a48bb707",
   "metadata": {},
   "outputs": [],
   "source": [
    "def get_data_MCI(path):\n",
    "    data = pd.read_csv(path, names= ['Subject ID', 'Rooster ID', 'Age', 'Sexe', 'Group', 'Conversion', 'MMSE', 'RAVLT', 'FAQ', 'CDR-SB', 'ADAS11'], usecols = ['Subject ID', 'Rooster ID', 'Group','Conversion'])\n",
    "    data.index = data['Subject ID']\n",
    "    data = data.drop(['Subject ID'], axis=1)\n",
    "    data = data[((data['Conversion'] == 1) | (data['Conversion'] == 2) | (data['Conversion'] == 3) | (data['Conversion'] == 4))]\n",
    "    return data\n"
   ]
  },
  {
   "cell_type": "code",
   "execution_count": 17,
   "id": "414dd0e6-c879-40c1-a53a-d8d079b639bd",
   "metadata": {},
   "outputs": [],
   "source": [
    "path = str(Path().resolve())\n",
    "path = path + \"/ADNI1/\"\n",
    "filename = os.listdir(path)[2]\n",
    "n_mmni_filename = os.path.join(path, filename)\n",
    "img_n_mmni = nib.load(n_mmni_filename)\n"
   ]
  },
  {
   "cell_type": "code",
   "execution_count": 18,
   "id": "f040ba8a-7e33-40eb-a777-8115c20ad4ba",
   "metadata": {},
   "outputs": [
    {
     "data": {
      "text/html": [
       "<div>\n",
       "<style scoped>\n",
       "    .dataframe tbody tr th:only-of-type {\n",
       "        vertical-align: middle;\n",
       "    }\n",
       "\n",
       "    .dataframe tbody tr th {\n",
       "        vertical-align: top;\n",
       "    }\n",
       "\n",
       "    .dataframe thead th {\n",
       "        text-align: right;\n",
       "    }\n",
       "</style>\n",
       "<table border=\"1\" class=\"dataframe\">\n",
       "  <thead>\n",
       "    <tr style=\"text-align: right;\">\n",
       "      <th></th>\n",
       "      <th>Rooster ID</th>\n",
       "      <th>Group</th>\n",
       "      <th>Conversion</th>\n",
       "    </tr>\n",
       "    <tr>\n",
       "      <th>Subject ID</th>\n",
       "      <th></th>\n",
       "      <th></th>\n",
       "      <th></th>\n",
       "    </tr>\n",
       "  </thead>\n",
       "  <tbody>\n",
       "    <tr>\n",
       "      <th>002_S_0729</th>\n",
       "      <td>729</td>\n",
       "      <td>MCI</td>\n",
       "      <td>3</td>\n",
       "    </tr>\n",
       "    <tr>\n",
       "      <th>002_S_0782</th>\n",
       "      <td>782</td>\n",
       "      <td>MCI</td>\n",
       "      <td>4</td>\n",
       "    </tr>\n",
       "    <tr>\n",
       "      <th>002_S_0954</th>\n",
       "      <td>954</td>\n",
       "      <td>MCI</td>\n",
       "      <td>3</td>\n",
       "    </tr>\n",
       "    <tr>\n",
       "      <th>002_S_1070</th>\n",
       "      <td>1070</td>\n",
       "      <td>MCI</td>\n",
       "      <td>3</td>\n",
       "    </tr>\n",
       "    <tr>\n",
       "      <th>002_S_1155</th>\n",
       "      <td>1155</td>\n",
       "      <td>MCI</td>\n",
       "      <td>4</td>\n",
       "    </tr>\n",
       "  </tbody>\n",
       "</table>\n",
       "</div>"
      ],
      "text/plain": [
       "            Rooster ID Group  Conversion\n",
       "Subject ID                              \n",
       "002_S_0729         729   MCI           3\n",
       "002_S_0782         782   MCI           4\n",
       "002_S_0954         954   MCI           3\n",
       "002_S_1070        1070   MCI           3\n",
       "002_S_1155        1155   MCI           4"
      ]
     },
     "execution_count": 18,
     "metadata": {},
     "output_type": "execute_result"
    }
   ],
   "source": [
    "path = str(Path().resolve()) + \"/ADNI1/list_standardized_tongtong_2017.csv\"\n",
    "y_data = get_data_MCI(path)\n",
    "y_data.head()\n"
   ]
  },
  {
   "cell_type": "markdown",
   "id": "b4e44c14-17c6-4d34-b63a-e6600ff890cd",
   "metadata": {},
   "source": [
    "# Data preparation & splitting "
   ]
  },
  {
   "cell_type": "code",
   "execution_count": 19,
   "id": "7bf3605b-7673-4cae-819a-289ccea3c293",
   "metadata": {},
   "outputs": [],
   "source": [
    "from tensorflow.keras.utils import to_categorical\n",
    "\n",
    "\n",
    "def Data_preparation_MCI(Y):\n",
    "    X_data = []\n",
    "    Y_data = []\n",
    "    \n",
    "    path = str(Path().resolve()) + \"/ADNI1\"\n",
    "    for index, _ in Y.iterrows():\n",
    "        filename = path + '/n_mmni_fADNI_' + index + '_1.5T_t1w.nii.gz'\n",
    "        \n",
    "        if os.path.isfile(filename):\n",
    "            img_n_mmni = nib.load(filename).get_fdata()\n",
    "            \n",
    "            # hippocampe n°1 :\n",
    "            \n",
    "            hipp1 = img_n_mmni[40:80,90:130,90:130]\n",
    "            X_data.append(hipp1)\n",
    "            if Y['Conversion'][index] == 1 | Y['Conversion'][index] == 2 | Y['Conversion'][index] == 3 : # pMCI\n",
    "                Y_data.append(1)\n",
    "            elif Y['Conversion'][index] == 4 : #sMCI\n",
    "                Y_data.append(0)\n",
    "            \n",
    "            \n",
    "            # hippocampe n°2 :\n",
    "            \n",
    "            hipp2 = img_n_mmni[100:140,90:130,90:130]\n",
    "            X_data.append(hipp2)\n",
    "            if Y['Conversion'][index] == 1 | Y['Conversion'][index] == 2 | Y['Conversion'][index] == 3 : # pMCI\n",
    "                Y_data.append(1)\n",
    "            elif Y['Conversion'][index] == 4 : #sMCI\n",
    "                Y_data.append(0)    \n",
    "            1\n",
    "        else:\n",
    "            Y.drop(index, inplace=True)\n",
    "        \n",
    "    X_data = np.array(X_data)   \n",
    "    return X_data, Y_data\n",
    "\n",
    "\n",
    "\n"
   ]
  },
  {
   "cell_type": "code",
   "execution_count": 20,
   "id": "2e713b45-2719-4394-982c-c063a38692a1",
   "metadata": {},
   "outputs": [
    {
     "name": "stdout",
     "output_type": "stream",
     "text": [
      "(600, 40, 40, 40)\n",
      "600\n"
     ]
    }
   ],
   "source": [
    "X_data, Y_data = Data_preparation_MCI(y_data)\n",
    "Y_data = to_categorical(Y_data, num_classes=2)\n",
    "\n",
    "print(X_data.shape)\n",
    "print(len(Y_data))"
   ]
  },
  {
   "cell_type": "code",
   "execution_count": 21,
   "id": "95e8c931-2864-4328-ae48-44d2f1572af3",
   "metadata": {},
   "outputs": [],
   "source": [
    "# on garde seulement une colonne pour y \n",
    "y_data = np.argmax(Y_data, axis= 1)"
   ]
  },
  {
   "cell_type": "markdown",
   "id": "9f5066c2-48ba-490c-8c73-7946c8082567",
   "metadata": {},
   "source": [
    "## Prédiction (pour chaque hippocampe) "
   ]
  },
  {
   "cell_type": "code",
   "execution_count": 22,
   "id": "585436b7-cc27-40f0-8236-9292ef8140e9",
   "metadata": {},
   "outputs": [
    {
     "name": "stdout",
     "output_type": "stream",
     "text": [
      "19/19 [==============================] - 1s 22ms/step\n",
      "19/19 [==============================] - 0s 17ms/step\n"
     ]
    }
   ],
   "source": [
    "ypred_raw_model1 = model.predict(X_data)\n",
    "ypred_raw_model2 = model2.predict(X_data)"
   ]
  },
  {
   "cell_type": "code",
   "execution_count": 23,
   "id": "ff55af02-13e2-4049-a97d-22cc1e51b53d",
   "metadata": {},
   "outputs": [],
   "source": [
    "ypred_model1 = np.where(ypred_raw_model1 > 0.5, 1, 0)\n",
    "ypred_model2 = np.where(ypred_raw_model2 > 0.5, 1, 0)"
   ]
  },
  {
   "cell_type": "code",
   "execution_count": 24,
   "id": "999296f0-a2f5-46de-bbe3-1cdc145b990d",
   "metadata": {},
   "outputs": [
    {
     "name": "stdout",
     "output_type": "stream",
     "text": [
      "accuracy on MCI data based on CN and AD training with model 1: 0.5066666666666667 \n",
      "accuracy on MCI data based on CN and AD training with model 2: 0.56 \n"
     ]
    }
   ],
   "source": [
    "from sklearn.metrics import accuracy_score\n",
    "\n",
    "acc_model1 = accuracy_score(ypred_model1, y_data)\n",
    "acc_model2 = accuracy_score(ypred_model2, y_data)\n",
    "\n",
    "print('accuracy on MCI data based on CN and AD training with model 1: {} '.format(acc_model1))\n",
    "print('accuracy on MCI data based on CN and AD training with model 2: {} '.format(acc_model2))"
   ]
  },
  {
   "cell_type": "markdown",
   "id": "5e7b4fa1-db07-44d8-bfeb-2257695d8dc0",
   "metadata": {},
   "source": [
    "## Prédiction (pour chaque hippocampe) "
   ]
  },
  {
   "cell_type": "markdown",
   "id": "2a95c30d-9738-49aa-8d97-4c6737cff072",
   "metadata": {},
   "source": [
    "Comme on ajoute à chaque fois les deux hippocampes du même sujet à la suite, les labels sont les mêmes pour toutes les paires de données et on en prend que 1 sur 2"
   ]
  },
  {
   "cell_type": "code",
   "execution_count": 25,
   "id": "ac131ff4-1a77-4f70-a63a-e01bf350b0c0",
   "metadata": {},
   "outputs": [
    {
     "name": "stdout",
     "output_type": "stream",
     "text": [
      "(300,)\n"
     ]
    }
   ],
   "source": [
    "y_real_data = y_data[::2]\n",
    "print(y_real_data.shape)"
   ]
  },
  {
   "cell_type": "markdown",
   "id": "881faaa1-8375-4829-9763-81014d2140be",
   "metadata": {},
   "source": [
    "Pour la prédiction pour un patient, on prend la moyenne issue de l'activation sigmoid du réseau de neurones pour les deux hippocampes "
   ]
  },
  {
   "cell_type": "code",
   "execution_count": 26,
   "id": "434f2a48-33d4-427e-b3ec-a994a70dc289",
   "metadata": {},
   "outputs": [],
   "source": [
    "y_pred_hipp1_model1 = ypred_raw_model1[::2]\n",
    "y_pred_hipp2_model1 =  ypred_raw_model1[1::2]\n",
    "y_real_pred_raw_model1 = (y_pred_hipp1_model1 + y_pred_hipp2_model1)/2\n",
    "y_real_pred_model1 = np.where(y_real_pred_raw_model1 > 0.5, 1,0)\n",
    "\n",
    "y_pred_hipp1_model2 = ypred_raw_model2[::2]\n",
    "y_pred_hipp2_model2 =  ypred_raw_model2[1::2]\n",
    "y_real_pred_raw_model2 = (y_pred_hipp1_model2 + y_pred_hipp2_model2)/2\n",
    "y_real_pred_model2 = np.where(y_real_pred_raw_model2 > 0.5, 1,0)"
   ]
  },
  {
   "cell_type": "code",
   "execution_count": 27,
   "id": "dc28e509-05b1-4a8a-898f-24ab906869d4",
   "metadata": {},
   "outputs": [
    {
     "name": "stdout",
     "output_type": "stream",
     "text": [
      "accuracy on MCI data based on CN and AD training with model 1 : 0.53 \n",
      "accuracy on MCI data based on CN and AD training with model 2 : 0.56 \n"
     ]
    }
   ],
   "source": [
    "acc_model1 = accuracy_score(y_real_pred_model1, y_real_data)\n",
    "acc_model2 = accuracy_score(y_real_pred_model2, y_real_data)\n",
    "\n",
    "print('accuracy on MCI data based on CN and AD training with model 1 : {} '.format(acc_model1))\n",
    "print('accuracy on MCI data based on CN and AD training with model 2 : {} '.format(acc_model2))"
   ]
  },
  {
   "cell_type": "markdown",
   "id": "782eff1c-41b1-4e23-ad5c-457b078de2b3",
   "metadata": {},
   "source": [
    "On garde la meilleure prédiction pour afficher la matrice de confusion"
   ]
  },
  {
   "cell_type": "code",
   "execution_count": 28,
   "id": "10c66e9e-a615-448f-b18c-17caea3068ec",
   "metadata": {},
   "outputs": [
    {
     "name": "stdout",
     "output_type": "stream",
     "text": [
      "[[86 43]\n",
      " [89 82]]\n"
     ]
    },
    {
     "data": {
      "image/png": "[encoded data removed]",
      "text/plain": [
       "<Figure size 640x480 with 2 Axes>"
      ]
     },
     "metadata": {},
     "output_type": "display_data"
    }
   ],
   "source": [
    "from sklearn.metrics import confusion_matrix\n",
    "from sklearn.metrics import plot_confusion_matrix\n",
    "import seaborn as sns\n",
    "\n",
    "names = ['sMCI','pMCI']\n",
    "\n",
    "cf_matrix = confusion_matrix(y_real_data, y_real_pred_model2)\n",
    "print(cf_matrix)\n",
    "ax = sns.heatmap(cf_matrix/np.sum(cf_matrix), annot=True, \n",
    "            fmt='.2%', cmap='Blues')\n",
    "plt.show()"
   ]
  },
  {
   "cell_type": "markdown",
   "id": "6c5141ee-967a-417d-9ba6-4e9042f44035",
   "metadata": {},
   "source": [
    "- pMCI ~ AD ==1\n",
    "- sMCI ~ CN ==0"
   ]
  }
 ],
 "metadata": {
  "kernelspec": {
   "display_name": "Python 3 (ipykernel)",
   "language": "python",
   "name": "python3"
  },
  "language_info": {
   "codemirror_mode": {
    "name": "ipython",
    "version": 3
   },
   "file_extension": ".py",
   "mimetype": "text/x-python",
   "name": "python",
   "nbconvert_exporter": "python",
   "pygments_lexer": "ipython3",
   "version": "3.10.6"
  },
  "vscode": {
   "interpreter": {
    "hash": "916dbcbb3f70747c44a77c7bcd40155683ae19c65e1c03b4aa3499c5328201f1"
   }
  }
 },
 "nbformat": 4,
 "nbformat_minor": 5
}
