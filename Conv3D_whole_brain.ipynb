{
 "cells": [
  {
   "cell_type": "code",
   "execution_count": 1,
   "id": "d79c2be5",
   "metadata": {},
   "outputs": [
    {
     "name": "stderr",
     "output_type": "stream",
     "text": [
      "2022-12-12 10:15:05.759363: I tensorflow/core/platform/cpu_feature_guard.cc:193] This TensorFlow binary is optimized with oneAPI Deep Neural Network Library (oneDNN) to use the following CPU instructions in performance-critical operations:  AVX2 FMA\n",
      "To enable them in other operations, rebuild TensorFlow with the appropriate compiler flags.\n",
      "2022-12-12 10:15:06.596992: W tensorflow/compiler/xla/stream_executor/platform/default/dso_loader.cc:64] Could not load dynamic library 'libnvinfer.so.7'; dlerror: libnvinfer.so.7: cannot open shared object file: No such file or directory; LD_LIBRARY_PATH: :/home/coleger/miniconda3/envs/tf/lib/\n",
      "2022-12-12 10:15:06.597312: W tensorflow/compiler/xla/stream_executor/platform/default/dso_loader.cc:64] Could not load dynamic library 'libnvinfer_plugin.so.7'; dlerror: libnvinfer_plugin.so.7: cannot open shared object file: No such file or directory; LD_LIBRARY_PATH: :/home/coleger/miniconda3/envs/tf/lib/\n",
      "2022-12-12 10:15:06.597318: W tensorflow/compiler/tf2tensorrt/utils/py_utils.cc:38] TF-TRT Warning: Cannot dlopen some TensorRT libraries. If you would like to use Nvidia GPU with TensorRT, please make sure the missing libraries mentioned above are installed properly.\n"
     ]
    }
   ],
   "source": [
    "import os \n",
    "from pathlib import Path\n",
    "import numpy as np\n",
    "import nibabel as nib\n",
    "import matplotlib.pyplot as plt\n",
    "import pandas as pd\n",
    "import tensorflow as tf"
   ]
  },
  {
   "cell_type": "code",
   "execution_count": 2,
   "id": "ade9ce97",
   "metadata": {},
   "outputs": [],
   "source": [
    "def get_data(path):\n",
    "    data = pd.read_csv(path, names= ['Subject ID', 'Rooster ID', 'Age', 'Sexe', 'Group', 'Conversion', 'MMSE', 'RAVLT', 'FAQ', 'CDR-SB', 'ADAS11'], usecols = ['Subject ID', 'Rooster ID', 'Group'])\n",
    "    data.index = data['Subject ID']\n",
    "    data = data.drop(['Subject ID'], axis=1)\n",
    "    data = data[((data.Group == 'AD') | (data.Group == 'CN'))]\n",
    "    return data\n"
   ]
  },
  {
   "cell_type": "code",
   "execution_count": 3,
   "id": "858bfc7a",
   "metadata": {},
   "outputs": [],
   "source": [
    "path = str(Path().resolve())\n",
    "path = path + \"/ADNI1/\"\n",
    "filename = os.listdir(path)[2]\n",
    "n_mmni_filename = os.path.join(path, filename)\n",
    "img_n_mmni = nib.load(n_mmni_filename)\n"
   ]
  },
  {
   "cell_type": "code",
   "execution_count": 4,
   "id": "b726872d",
   "metadata": {},
   "outputs": [
    {
     "data": {
      "text/html": [
       "<div>\n",
       "<style scoped>\n",
       "    .dataframe tbody tr th:only-of-type {\n",
       "        vertical-align: middle;\n",
       "    }\n",
       "\n",
       "    .dataframe tbody tr th {\n",
       "        vertical-align: top;\n",
       "    }\n",
       "\n",
       "    .dataframe thead th {\n",
       "        text-align: right;\n",
       "    }\n",
       "</style>\n",
       "<table border=\"1\" class=\"dataframe\">\n",
       "  <thead>\n",
       "    <tr style=\"text-align: right;\">\n",
       "      <th></th>\n",
       "      <th>Rooster ID</th>\n",
       "      <th>Group</th>\n",
       "    </tr>\n",
       "    <tr>\n",
       "      <th>Subject ID</th>\n",
       "      <th></th>\n",
       "      <th></th>\n",
       "    </tr>\n",
       "  </thead>\n",
       "  <tbody>\n",
       "    <tr>\n",
       "      <th>002_S_0295</th>\n",
       "      <td>295</td>\n",
       "      <td>CN</td>\n",
       "    </tr>\n",
       "    <tr>\n",
       "      <th>002_S_0413</th>\n",
       "      <td>413</td>\n",
       "      <td>CN</td>\n",
       "    </tr>\n",
       "    <tr>\n",
       "      <th>002_S_0559</th>\n",
       "      <td>559</td>\n",
       "      <td>CN</td>\n",
       "    </tr>\n",
       "    <tr>\n",
       "      <th>002_S_0619</th>\n",
       "      <td>619</td>\n",
       "      <td>AD</td>\n",
       "    </tr>\n",
       "    <tr>\n",
       "      <th>002_S_0685</th>\n",
       "      <td>685</td>\n",
       "      <td>CN</td>\n",
       "    </tr>\n",
       "  </tbody>\n",
       "</table>\n",
       "</div>"
      ],
      "text/plain": [
       "            Rooster ID Group\n",
       "Subject ID                  \n",
       "002_S_0295         295    CN\n",
       "002_S_0413         413    CN\n",
       "002_S_0559         559    CN\n",
       "002_S_0619         619    AD\n",
       "002_S_0685         685    CN"
      ]
     },
     "execution_count": 4,
     "metadata": {},
     "output_type": "execute_result"
    }
   ],
   "source": [
    "path = str(Path().resolve()) + \"/ADNI1/list_standardized_tongtong_2017.csv\"\n",
    "y_data = get_data(path)\n",
    "y_data.head()\n"
   ]
  },
  {
   "cell_type": "code",
   "execution_count": 5,
   "id": "cde4f945-ecfb-4c2e-ada6-6952455269fd",
   "metadata": {},
   "outputs": [],
   "source": [
    "def reduce_shape(data):\n",
    "    # shape now = (181, 217, 181)\n",
    "    reduced_data = data[::4, ::4, ::4]\n",
    "    # on prend juste 1 pixel sur 2\n",
    "    return reduced_data\n",
    "\n",
    "# problème : il faut qu'on ait le même format de données pourque ça fonctionne "
   ]
  },
  {
   "cell_type": "code",
   "execution_count": 6,
   "id": "55e167d8",
   "metadata": {},
   "outputs": [],
   "source": [
    "from tensorflow.keras.utils import to_categorical\n",
    "\n",
    "\n",
    "def Data_preparation(Y):\n",
    "    X_data = []\n",
    "    Y_data = []\n",
    "    \n",
    "    path = str(Path().resolve()) + \"/ADNI1\"\n",
    "    for index, _ in Y.iterrows():\n",
    "        filename = path + '/n_mmni_fADNI_' + index + '_1.5T_t1w.nii.gz'\n",
    "        \n",
    "        if os.path.isfile(filename):\n",
    "            img_n_mmni = nib.load(filename).get_fdata()\n",
    "            reduced_shape_data = reduce_shape(img_n_mmni)\n",
    "        \n",
    "            X_data.append(reduced_shape_data)\n",
    "            if Y['Group'][index] == 'AD':\n",
    "                Y_data.append(1)\n",
    "            elif Y['Group'][index] == 'CN':\n",
    "                Y_data.append(0)\n",
    "          \n",
    "            \n",
    "        else:\n",
    "            Y.drop(index, inplace=True)\n",
    "        \n",
    "    X_data = np.array(X_data)   \n",
    "    return X_data, Y_data\n"
   ]
  },
  {
   "cell_type": "code",
   "execution_count": 7,
   "id": "14032a65",
   "metadata": {},
   "outputs": [
    {
     "name": "stdout",
     "output_type": "stream",
     "text": [
      "(419, 46, 55, 46)\n",
      "419\n"
     ]
    }
   ],
   "source": [
    "X_data, Y_data = Data_preparation(y_data)\n",
    "Y_data = to_categorical(Y_data, num_classes=2)\n",
    "\n",
    "print(X_data.shape)\n",
    "print(len(Y_data))"
   ]
  },
  {
   "cell_type": "code",
   "execution_count": 8,
   "id": "a587e272-0333-442a-9064-dad1690a1449",
   "metadata": {},
   "outputs": [],
   "source": [
    "# on garde seulement une colonne pour y \n",
    "y_data = np.argmax(Y_data, axis= 1)"
   ]
  },
  {
   "cell_type": "code",
   "execution_count": 9,
   "id": "3e607848",
   "metadata": {},
   "outputs": [
    {
     "name": "stdout",
     "output_type": "stream",
     "text": [
      "Data splited, length of training data is:  335\n",
      "Data splited, length of test data is:  84\n"
     ]
    }
   ],
   "source": [
    "from sklearn.model_selection import train_test_split\n",
    "\n",
    "X_train, X_test, y_train, y_test = train_test_split(X_data, y_data, test_size=0.2, random_state=49) \n",
    "\n",
    "print(\"Data splited, length of training data is: \", len(X_train))\n",
    "print(\"Data splited, length of test data is: \", len(X_test))"
   ]
  },
  {
   "cell_type": "code",
   "execution_count": 10,
   "id": "9adcde85",
   "metadata": {},
   "outputs": [
    {
     "name": "stderr",
     "output_type": "stream",
     "text": [
      "2022-12-12 10:16:15.226365: I tensorflow/compiler/xla/stream_executor/cuda/cuda_gpu_executor.cc:981] successful NUMA node read from SysFS had negative value (-1), but there must be at least one NUMA node, so returning NUMA node zero\n",
      "2022-12-12 10:16:15.245931: I tensorflow/compiler/xla/stream_executor/cuda/cuda_gpu_executor.cc:981] successful NUMA node read from SysFS had negative value (-1), but there must be at least one NUMA node, so returning NUMA node zero\n",
      "2022-12-12 10:16:15.246063: I tensorflow/compiler/xla/stream_executor/cuda/cuda_gpu_executor.cc:981] successful NUMA node read from SysFS had negative value (-1), but there must be at least one NUMA node, so returning NUMA node zero\n",
      "2022-12-12 10:16:15.247986: I tensorflow/core/platform/cpu_feature_guard.cc:193] This TensorFlow binary is optimized with oneAPI Deep Neural Network Library (oneDNN) to use the following CPU instructions in performance-critical operations:  AVX2 FMA\n",
      "To enable them in other operations, rebuild TensorFlow with the appropriate compiler flags.\n",
      "2022-12-12 10:16:15.249444: I tensorflow/compiler/xla/stream_executor/cuda/cuda_gpu_executor.cc:981] successful NUMA node read from SysFS had negative value (-1), but there must be at least one NUMA node, so returning NUMA node zero\n",
      "2022-12-12 10:16:15.249573: I tensorflow/compiler/xla/stream_executor/cuda/cuda_gpu_executor.cc:981] successful NUMA node read from SysFS had negative value (-1), but there must be at least one NUMA node, so returning NUMA node zero\n",
      "2022-12-12 10:16:15.249683: I tensorflow/compiler/xla/stream_executor/cuda/cuda_gpu_executor.cc:981] successful NUMA node read from SysFS had negative value (-1), but there must be at least one NUMA node, so returning NUMA node zero\n",
      "2022-12-12 10:16:15.849770: I tensorflow/compiler/xla/stream_executor/cuda/cuda_gpu_executor.cc:981] successful NUMA node read from SysFS had negative value (-1), but there must be at least one NUMA node, so returning NUMA node zero\n",
      "2022-12-12 10:16:15.849942: I tensorflow/compiler/xla/stream_executor/cuda/cuda_gpu_executor.cc:981] successful NUMA node read from SysFS had negative value (-1), but there must be at least one NUMA node, so returning NUMA node zero\n",
      "2022-12-12 10:16:15.850060: I tensorflow/compiler/xla/stream_executor/cuda/cuda_gpu_executor.cc:981] successful NUMA node read from SysFS had negative value (-1), but there must be at least one NUMA node, so returning NUMA node zero\n",
      "2022-12-12 10:16:15.850286: I tensorflow/core/common_runtime/gpu/gpu_device.cc:1613] Created device /job:localhost/replica:0/task:0/device:GPU:0 with 10222 MB memory:  -> device: 0, name: NVIDIA GeForce RTX 3060, pci bus id: 0000:01:00.0, compute capability: 8.6\n"
     ]
    },
    {
     "name": "stdout",
     "output_type": "stream",
     "text": [
      "Model: \"sequential\"\n",
      "_________________________________________________________________\n",
      " Layer (type)                Output Shape              Param #   \n",
      "=================================================================\n",
      " conv3d (Conv3D)             (None, 44, 53, 44, 32)    896       \n",
      "                                                                 \n",
      " max_pooling3d (MaxPooling3D  (None, 22, 26, 22, 32)   0         \n",
      " )                                                               \n",
      "                                                                 \n",
      " batch_normalization (BatchN  (None, 22, 26, 22, 32)   128       \n",
      " ormalization)                                                   \n",
      "                                                                 \n",
      " dropout (Dropout)           (None, 22, 26, 22, 32)    0         \n",
      "                                                                 \n",
      " conv3d_1 (Conv3D)           (None, 20, 24, 20, 64)    55360     \n",
      "                                                                 \n",
      " max_pooling3d_1 (MaxPooling  (None, 10, 12, 10, 64)   0         \n",
      " 3D)                                                             \n",
      "                                                                 \n",
      " batch_normalization_1 (Batc  (None, 10, 12, 10, 64)   256       \n",
      " hNormalization)                                                 \n",
      "                                                                 \n",
      " dropout_1 (Dropout)         (None, 10, 12, 10, 64)    0         \n",
      "                                                                 \n",
      " conv3d_2 (Conv3D)           (None, 8, 10, 8, 128)     221312    \n",
      "                                                                 \n",
      " max_pooling3d_2 (MaxPooling  (None, 4, 5, 4, 128)     0         \n",
      " 3D)                                                             \n",
      "                                                                 \n",
      " batch_normalization_2 (Batc  (None, 4, 5, 4, 128)     512       \n",
      " hNormalization)                                                 \n",
      "                                                                 \n",
      " dropout_2 (Dropout)         (None, 4, 5, 4, 128)      0         \n",
      "                                                                 \n",
      " flatten (Flatten)           (None, 10240)             0         \n",
      "                                                                 \n",
      " dense (Dense)               (None, 256)               2621696   \n",
      "                                                                 \n",
      " dense_1 (Dense)             (None, 128)               32896     \n",
      "                                                                 \n",
      " dense_2 (Dense)             (None, 1)                 129       \n",
      "                                                                 \n",
      "=================================================================\n",
      "Total params: 2,933,185\n",
      "Trainable params: 2,932,737\n",
      "Non-trainable params: 448\n",
      "_________________________________________________________________\n"
     ]
    }
   ],
   "source": [
    "import keras\n",
    "from keras.models import Sequential\n",
    "from keras.layers import Dense, Flatten, Conv3D, MaxPooling3D, Dropout, BatchNormalization\n",
    "\n",
    "\n",
    "model1 = Sequential()\n",
    "# Couches de convolution + MaxPooling\n",
    "model1.add(Conv3D(32, kernel_size=(3, 3, 3), activation='relu', kernel_initializer='he_uniform', input_shape=(46,55,46,1)))\n",
    "# input shape = (batch_size, channels, dim1, dim2,dim3)\n",
    "model1.add(MaxPooling3D(pool_size=(2, 2, 2)))\n",
    "model1.add(BatchNormalization(center=True, scale=True))\n",
    "model1.add(Dropout(0.3))\n",
    "model1.add(Conv3D(64, kernel_size=(3, 3, 3), activation='relu', kernel_initializer='he_uniform'))\n",
    "model1.add(MaxPooling3D(pool_size=(2, 2, 2)))\n",
    "model1.add(BatchNormalization(center=True, scale=True))\n",
    "model1.add(Dropout(0.3))\n",
    "model1.add(Conv3D(128, kernel_size=(3, 3, 3), activation='relu', kernel_initializer='he_uniform'))\n",
    "model1.add(MaxPooling3D(pool_size=(2, 2, 2)))\n",
    "model1.add(BatchNormalization(center=True, scale=True))\n",
    "model1.add(Dropout(0.3))\n",
    "# Couches de classification\n",
    "model1.add(Flatten())\n",
    "model1.add(Dense(256, activation='relu', kernel_initializer='he_uniform'))\n",
    "model1.add(Dense(128, activation='relu', kernel_initializer='he_uniform'))\n",
    "model1.add(Dense(1, activation='sigmoid'))\n",
    "\n",
    "# Compile the model\n",
    "model1.compile(loss='binary_crossentropy',\n",
    "              optimizer=keras.optimizers.Adam(learning_rate=0.001),\n",
    "              metrics=['accuracy'])\n",
    "model1.summary()\n"
   ]
  },
  {
   "cell_type": "code",
   "execution_count": 11,
   "id": "9dc6cc62",
   "metadata": {},
   "outputs": [
    {
     "name": "stdout",
     "output_type": "stream",
     "text": [
      "Epoch 1/80\n"
     ]
    },
    {
     "name": "stderr",
     "output_type": "stream",
     "text": [
      "2022-12-12 10:16:17.569852: I tensorflow/compiler/xla/stream_executor/cuda/cuda_dnn.cc:428] Loaded cuDNN version 8100\n",
      "2022-12-12 10:16:18.285643: I tensorflow/tsl/platform/default/subprocess.cc:304] Start cannot spawn child process: No such file or directory\n",
      "2022-12-12 10:16:19.075127: I tensorflow/compiler/xla/stream_executor/cuda/cuda_blas.cc:630] TensorFloat-32 will be used for the matrix multiplication. This will only be logged once.\n"
     ]
    },
    {
     "name": "stdout",
     "output_type": "stream",
     "text": [
      "168/168 [==============================] - 5s 13ms/step - loss: 1.4236 - accuracy: 0.5224 - val_loss: 0.6240 - val_accuracy: 0.6905\n",
      "Epoch 2/80\n",
      "168/168 [==============================] - 2s 11ms/step - loss: 0.8636 - accuracy: 0.5731 - val_loss: 1.6702 - val_accuracy: 0.6071\n",
      "Epoch 3/80\n",
      "168/168 [==============================] - 2s 11ms/step - loss: 1.2384 - accuracy: 0.5612 - val_loss: 0.6425 - val_accuracy: 0.6667\n",
      "Epoch 4/80\n",
      "168/168 [==============================] - 2s 11ms/step - loss: 0.6560 - accuracy: 0.6627 - val_loss: 0.6070 - val_accuracy: 0.6310\n",
      "Epoch 5/80\n",
      "168/168 [==============================] - 2s 11ms/step - loss: 0.5066 - accuracy: 0.7612 - val_loss: 0.5482 - val_accuracy: 0.7381\n",
      "Epoch 6/80\n",
      "168/168 [==============================] - 2s 11ms/step - loss: 0.4064 - accuracy: 0.8090 - val_loss: 1.9359 - val_accuracy: 0.4048\n",
      "Epoch 7/80\n",
      "168/168 [==============================] - 2s 11ms/step - loss: 0.4379 - accuracy: 0.8209 - val_loss: 0.6997 - val_accuracy: 0.7381\n",
      "Epoch 8/80\n",
      "168/168 [==============================] - 2s 11ms/step - loss: 0.4565 - accuracy: 0.7910 - val_loss: 0.4279 - val_accuracy: 0.8571\n",
      "Epoch 9/80\n",
      "168/168 [==============================] - 2s 11ms/step - loss: 0.4608 - accuracy: 0.8119 - val_loss: 0.4328 - val_accuracy: 0.8095\n",
      "Epoch 10/80\n",
      "168/168 [==============================] - 2s 11ms/step - loss: 0.3412 - accuracy: 0.8746 - val_loss: 0.5305 - val_accuracy: 0.7381\n",
      "Epoch 11/80\n",
      "168/168 [==============================] - 2s 11ms/step - loss: 0.2426 - accuracy: 0.9104 - val_loss: 0.3989 - val_accuracy: 0.8690\n",
      "Epoch 12/80\n",
      "168/168 [==============================] - 2s 11ms/step - loss: 0.3907 - accuracy: 0.8448 - val_loss: 0.5889 - val_accuracy: 0.6190\n",
      "Epoch 13/80\n",
      "168/168 [==============================] - 2s 11ms/step - loss: 0.2643 - accuracy: 0.8985 - val_loss: 0.3956 - val_accuracy: 0.8571\n",
      "Epoch 14/80\n",
      "168/168 [==============================] - 2s 11ms/step - loss: 0.1286 - accuracy: 0.9552 - val_loss: 0.5699 - val_accuracy: 0.8452\n",
      "Epoch 15/80\n",
      "168/168 [==============================] - 2s 11ms/step - loss: 0.0890 - accuracy: 0.9612 - val_loss: 0.5105 - val_accuracy: 0.8571\n",
      "Epoch 16/80\n",
      "168/168 [==============================] - 2s 11ms/step - loss: 0.1013 - accuracy: 0.9701 - val_loss: 0.4515 - val_accuracy: 0.8214\n",
      "Epoch 17/80\n",
      "168/168 [==============================] - 2s 11ms/step - loss: 0.2135 - accuracy: 0.9313 - val_loss: 0.6712 - val_accuracy: 0.8452\n",
      "Epoch 18/80\n",
      "168/168 [==============================] - 2s 11ms/step - loss: 0.2797 - accuracy: 0.8985 - val_loss: 1.2641 - val_accuracy: 0.6667\n",
      "Epoch 19/80\n",
      "168/168 [==============================] - 2s 11ms/step - loss: 0.1513 - accuracy: 0.9493 - val_loss: 0.4976 - val_accuracy: 0.8571\n",
      "Epoch 20/80\n",
      "168/168 [==============================] - 2s 11ms/step - loss: 0.0534 - accuracy: 0.9881 - val_loss: 0.6810 - val_accuracy: 0.7857\n",
      "Epoch 21/80\n",
      "166/168 [============================>.] - ETA: 0s - loss: 0.0331 - accuracy: 0.9880Restoring model weights from the end of the best epoch: 11.\n",
      "168/168 [==============================] - 2s 11ms/step - loss: 0.0328 - accuracy: 0.9881 - val_loss: 0.6355 - val_accuracy: 0.8452\n",
      "Epoch 21: early stopping\n"
     ]
    }
   ],
   "source": [
    "# ajout d'un early stopping \n",
    "callback = tf.keras.callbacks.EarlyStopping(monitor='val_accuracy', patience=10, verbose=1, restore_best_weights=True)\n",
    "\n",
    "history = model1.fit(X_train, y_train, epochs=80, validation_data=(X_test, y_test),callbacks=[callback],batch_size=2)"
   ]
  },
  {
   "cell_type": "code",
   "execution_count": 12,
   "id": "6abd1773",
   "metadata": {},
   "outputs": [
    {
     "data": {
      "image/png": "[encoded data removed]",
      "text/plain": [
       "<Figure size 640x480 with 1 Axes>"
      ]
     },
     "metadata": {},
     "output_type": "display_data"
    },
    {
     "data": {
      "image/png": "[encoded data removed]",
      "text/plain": [
       "<Figure size 640x480 with 1 Axes>"
      ]
     },
     "metadata": {},
     "output_type": "display_data"
    }
   ],
   "source": [
    "def plot_loss_curves(history):\n",
    "    \n",
    "      \n",
    "    loss = history.history['loss']\n",
    "    val_loss = history.history['val_loss']\n",
    "\n",
    "    accuracy = history.history['accuracy']\n",
    "    val_accuracy = history.history['val_accuracy']\n",
    "\n",
    "    epochs = range(len(history.history['loss']))\n",
    "\n",
    "    # Plot loss\n",
    "    plt.plot(epochs, loss, label='training_loss')\n",
    "    plt.plot(epochs, val_loss, label='val_loss')\n",
    "    plt.title('Loss')\n",
    "    plt.xlabel('Epochs')\n",
    "    plt.legend()\n",
    "\n",
    "    # Plot accuracy\n",
    "    plt.figure()\n",
    "    plt.plot(epochs, accuracy, label='training_accuracy')\n",
    "    plt.plot(epochs, val_accuracy, label='val_accuracy')\n",
    "    plt.title('Accuracy')\n",
    "    plt.xlabel('Epochs')\n",
    "    plt.legend()\n",
    "\n",
    "plot_loss_curves(history)"
   ]
  },
  {
   "cell_type": "markdown",
   "id": "fe71ce6d-1f1d-4a37-b7e9-1b2af0086a54",
   "metadata": {},
   "source": [
    "# Training with whole AD and CN data"
   ]
  },
  {
   "cell_type": "code",
   "execution_count": 15,
   "id": "16005277-f153-4253-853c-b3435c181703",
   "metadata": {},
   "outputs": [
    {
     "name": "stdout",
     "output_type": "stream",
     "text": [
      "Model: \"sequential_2\"\n",
      "_________________________________________________________________\n",
      " Layer (type)                Output Shape              Param #   \n",
      "=================================================================\n",
      " conv3d_6 (Conv3D)           (None, 44, 53, 44, 32)    896       \n",
      "                                                                 \n",
      " max_pooling3d_6 (MaxPooling  (None, 22, 26, 22, 32)   0         \n",
      " 3D)                                                             \n",
      "                                                                 \n",
      " batch_normalization_6 (Batc  (None, 22, 26, 22, 32)   128       \n",
      " hNormalization)                                                 \n",
      "                                                                 \n",
      " dropout_6 (Dropout)         (None, 22, 26, 22, 32)    0         \n",
      "                                                                 \n",
      " conv3d_7 (Conv3D)           (None, 20, 24, 20, 64)    55360     \n",
      "                                                                 \n",
      " max_pooling3d_7 (MaxPooling  (None, 10, 12, 10, 64)   0         \n",
      " 3D)                                                             \n",
      "                                                                 \n",
      " batch_normalization_7 (Batc  (None, 10, 12, 10, 64)   256       \n",
      " hNormalization)                                                 \n",
      "                                                                 \n",
      " dropout_7 (Dropout)         (None, 10, 12, 10, 64)    0         \n",
      "                                                                 \n",
      " conv3d_8 (Conv3D)           (None, 8, 10, 8, 128)     221312    \n",
      "                                                                 \n",
      " max_pooling3d_8 (MaxPooling  (None, 4, 5, 4, 128)     0         \n",
      " 3D)                                                             \n",
      "                                                                 \n",
      " batch_normalization_8 (Batc  (None, 4, 5, 4, 128)     512       \n",
      " hNormalization)                                                 \n",
      "                                                                 \n",
      " dropout_8 (Dropout)         (None, 4, 5, 4, 128)      0         \n",
      "                                                                 \n",
      " flatten_2 (Flatten)         (None, 10240)             0         \n",
      "                                                                 \n",
      " dense_6 (Dense)             (None, 256)               2621696   \n",
      "                                                                 \n",
      " dense_7 (Dense)             (None, 128)               32896     \n",
      "                                                                 \n",
      " dense_8 (Dense)             (None, 1)                 129       \n",
      "                                                                 \n",
      "=================================================================\n",
      "Total params: 2,933,185\n",
      "Trainable params: 2,932,737\n",
      "Non-trainable params: 448\n",
      "_________________________________________________________________\n"
     ]
    }
   ],
   "source": [
    "model2 = Sequential()\n",
    "# Couches de convolution + MaxPooling\n",
    "model2.add(Conv3D(32, kernel_size=(3, 3, 3), activation='relu', kernel_initializer='he_uniform', input_shape=(46,55,46,1)))\n",
    "# input shape = (batch_size, channels, dim1, dim2,dim3)\n",
    "model2.add(MaxPooling3D(pool_size=(2, 2, 2)))\n",
    "model2.add(BatchNormalization(center=True, scale=True))\n",
    "model2.add(Dropout(0.3))\n",
    "model2.add(Conv3D(64, kernel_size=(3, 3, 3), activation='relu', kernel_initializer='he_uniform'))\n",
    "model2.add(MaxPooling3D(pool_size=(2, 2, 2)))\n",
    "model2.add(BatchNormalization(center=True, scale=True))\n",
    "model2.add(Dropout(0.3))\n",
    "model2.add(Conv3D(128, kernel_size=(3, 3, 3), activation='relu', kernel_initializer='he_uniform'))\n",
    "model2.add(MaxPooling3D(pool_size=(2, 2, 2)))\n",
    "model2.add(BatchNormalization(center=True, scale=True))\n",
    "model2.add(Dropout(0.3))\n",
    "# Couches de classification\n",
    "model2.add(Flatten())\n",
    "model2.add(Dense(256, activation='relu', kernel_initializer='he_uniform'))\n",
    "model2.add(Dense(128, activation='relu', kernel_initializer='he_uniform'))\n",
    "model2.add(Dense(1, activation='sigmoid'))\n",
    "\n",
    "# Compile the model\n",
    "model2.compile(loss='binary_crossentropy',\n",
    "              optimizer=keras.optimizers.Adam(learning_rate=0.001),\n",
    "              metrics=['accuracy'])\n",
    "model2.summary()\n",
    "\n",
    "    "
   ]
  },
  {
   "cell_type": "code",
   "execution_count": 16,
   "id": "5bb018ee-3341-45ed-ab4b-c882e1a8d49e",
   "metadata": {},
   "outputs": [
    {
     "name": "stdout",
     "output_type": "stream",
     "text": [
      "Epoch 1/20\n",
      "14/14 [==============================] - 3s 104ms/step - loss: 1.4809 - accuracy: 0.5298\n",
      "Epoch 2/20\n",
      "14/14 [==============================] - 1s 88ms/step - loss: 0.6342 - accuracy: 0.6539\n",
      "Epoch 3/20\n",
      "14/14 [==============================] - 1s 88ms/step - loss: 0.5890 - accuracy: 0.6897\n",
      "Epoch 4/20\n",
      "14/14 [==============================] - 1s 88ms/step - loss: 0.6841 - accuracy: 0.6277\n",
      "Epoch 5/20\n",
      "14/14 [==============================] - 1s 88ms/step - loss: 0.5337 - accuracy: 0.7327\n",
      "Epoch 6/20\n",
      "14/14 [==============================] - 1s 88ms/step - loss: 0.5679 - accuracy: 0.7208\n",
      "Epoch 7/20\n",
      "14/14 [==============================] - 1s 87ms/step - loss: 0.5266 - accuracy: 0.7566\n",
      "Epoch 8/20\n",
      "14/14 [==============================] - 1s 87ms/step - loss: 0.3819 - accuracy: 0.8186\n",
      "Epoch 9/20\n",
      "14/14 [==============================] - 1s 88ms/step - loss: 0.3531 - accuracy: 0.8258\n",
      "Epoch 10/20\n",
      "14/14 [==============================] - 1s 88ms/step - loss: 0.3475 - accuracy: 0.8353\n",
      "Epoch 11/20\n",
      "14/14 [==============================] - 1s 87ms/step - loss: 0.4935 - accuracy: 0.7589\n",
      "Epoch 12/20\n",
      "14/14 [==============================] - 1s 88ms/step - loss: 0.2972 - accuracy: 0.8735\n",
      "Epoch 13/20\n",
      "14/14 [==============================] - 1s 88ms/step - loss: 0.2406 - accuracy: 0.9093\n",
      "Epoch 14/20\n",
      "14/14 [==============================] - 1s 87ms/step - loss: 0.2123 - accuracy: 0.9165\n",
      "Epoch 15/20\n",
      "14/14 [==============================] - 1s 88ms/step - loss: 0.2298 - accuracy: 0.9117\n",
      "Epoch 16/20\n",
      "14/14 [==============================] - 1s 88ms/step - loss: 0.4003 - accuracy: 0.8258\n",
      "Epoch 17/20\n",
      "14/14 [==============================] - 1s 87ms/step - loss: 0.2556 - accuracy: 0.8998\n",
      "Epoch 18/20\n",
      "14/14 [==============================] - 1s 88ms/step - loss: 0.1676 - accuracy: 0.9356\n",
      "Epoch 19/20\n",
      "14/14 [==============================] - 1s 87ms/step - loss: 0.1481 - accuracy: 0.9594\n",
      "Epoch 20/20\n",
      "14/14 [==============================] - 1s 87ms/step - loss: 0.1576 - accuracy: 0.9379\n"
     ]
    }
   ],
   "source": [
    "callback = tf.keras.callbacks.EarlyStopping(monitor='loss', patience=3, verbose=1, restore_best_weights=True)\n",
    "\n",
    "history2 = model2.fit(X_data, y_data, epochs=30)"
   ]
  },
  {
   "cell_type": "markdown",
   "id": "452b15c2-d54e-4564-9ca9-fcfabb501dde",
   "metadata": {},
   "source": [
    "# Testing with pMCI et sMCI data "
   ]
  },
  {
   "cell_type": "markdown",
   "id": "635fa7cc-4651-460a-a139-2e6dba150c1d",
   "metadata": {},
   "source": [
    "- pMCI ~ AD ==1\n",
    "- sMCI ~ CN ==0"
   ]
  },
  {
   "cell_type": "code",
   "execution_count": 17,
   "id": "367601b6-dc9d-4f96-96d5-7550c90f2c6e",
   "metadata": {},
   "outputs": [],
   "source": [
    "def get_data_MCI(path):\n",
    "    data = pd.read_csv(path, names= ['Subject ID', 'Rooster ID', 'Age', 'Sexe', 'Group', 'Conversion', 'MMSE', 'RAVLT', 'FAQ', 'CDR-SB', 'ADAS11'], usecols = ['Subject ID', 'Rooster ID', 'Group','Conversion'])\n",
    "    data.index = data['Subject ID']\n",
    "    data = data.drop(['Subject ID'], axis=1)\n",
    "    data = data[((data['Conversion'] == 1) | (data['Conversion'] == 2) | (data['Conversion'] == 3) | (data['Conversion'] == 4))]\n",
    "    return data\n"
   ]
  },
  {
   "cell_type": "code",
   "execution_count": 18,
   "id": "591b9cbb-6e67-4676-b7cb-a01dccbd28f2",
   "metadata": {},
   "outputs": [],
   "source": [
    "path = str(Path().resolve())\n",
    "path = path + \"/ADNI1/\"\n",
    "filename = os.listdir(path)[2]\n",
    "n_mmni_filename = os.path.join(path, filename)\n",
    "img_n_mmni = nib.load(n_mmni_filename)\n"
   ]
  },
  {
   "cell_type": "code",
   "execution_count": 19,
   "id": "ae4780b8-fca2-419d-8320-c7ad3d7d7c7f",
   "metadata": {},
   "outputs": [
    {
     "data": {
      "text/html": [
       "<div>\n",
       "<style scoped>\n",
       "    .dataframe tbody tr th:only-of-type {\n",
       "        vertical-align: middle;\n",
       "    }\n",
       "\n",
       "    .dataframe tbody tr th {\n",
       "        vertical-align: top;\n",
       "    }\n",
       "\n",
       "    .dataframe thead th {\n",
       "        text-align: right;\n",
       "    }\n",
       "</style>\n",
       "<table border=\"1\" class=\"dataframe\">\n",
       "  <thead>\n",
       "    <tr style=\"text-align: right;\">\n",
       "      <th></th>\n",
       "      <th>Rooster ID</th>\n",
       "      <th>Group</th>\n",
       "      <th>Conversion</th>\n",
       "    </tr>\n",
       "    <tr>\n",
       "      <th>Subject ID</th>\n",
       "      <th></th>\n",
       "      <th></th>\n",
       "      <th></th>\n",
       "    </tr>\n",
       "  </thead>\n",
       "  <tbody>\n",
       "    <tr>\n",
       "      <th>002_S_0729</th>\n",
       "      <td>729</td>\n",
       "      <td>MCI</td>\n",
       "      <td>3</td>\n",
       "    </tr>\n",
       "    <tr>\n",
       "      <th>002_S_0782</th>\n",
       "      <td>782</td>\n",
       "      <td>MCI</td>\n",
       "      <td>4</td>\n",
       "    </tr>\n",
       "    <tr>\n",
       "      <th>002_S_0954</th>\n",
       "      <td>954</td>\n",
       "      <td>MCI</td>\n",
       "      <td>3</td>\n",
       "    </tr>\n",
       "    <tr>\n",
       "      <th>002_S_1070</th>\n",
       "      <td>1070</td>\n",
       "      <td>MCI</td>\n",
       "      <td>3</td>\n",
       "    </tr>\n",
       "    <tr>\n",
       "      <th>002_S_1155</th>\n",
       "      <td>1155</td>\n",
       "      <td>MCI</td>\n",
       "      <td>4</td>\n",
       "    </tr>\n",
       "  </tbody>\n",
       "</table>\n",
       "</div>"
      ],
      "text/plain": [
       "            Rooster ID Group  Conversion\n",
       "Subject ID                              \n",
       "002_S_0729         729   MCI           3\n",
       "002_S_0782         782   MCI           4\n",
       "002_S_0954         954   MCI           3\n",
       "002_S_1070        1070   MCI           3\n",
       "002_S_1155        1155   MCI           4"
      ]
     },
     "execution_count": 19,
     "metadata": {},
     "output_type": "execute_result"
    }
   ],
   "source": [
    "path = str(Path().resolve()) + \"/ADNI1/list_standardized_tongtong_2017.csv\"\n",
    "y_data = get_data_MCI(path)\n",
    "y_data.head()\n"
   ]
  },
  {
   "cell_type": "markdown",
   "id": "3397496f-f10b-4fd0-9ec1-40724c887a9b",
   "metadata": {},
   "source": [
    "# Data preparation & splitting "
   ]
  },
  {
   "cell_type": "code",
   "execution_count": 20,
   "id": "e93b35ea-f4c2-4202-ac62-0fa301249252",
   "metadata": {},
   "outputs": [],
   "source": [
    "from tensorflow.keras.utils import to_categorical\n",
    "\n",
    "\n",
    "def Data_preparation_MCI(Y):\n",
    "    X_data = []\n",
    "    Y_data = []\n",
    "    \n",
    "    path = str(Path().resolve()) + \"/ADNI1\"\n",
    "    for index, _ in Y.iterrows():\n",
    "        filename = path + '/n_mmni_fADNI_' + index + '_1.5T_t1w.nii.gz'\n",
    "        \n",
    "        if os.path.isfile(filename):\n",
    "            img_n_mmni = nib.load(filename).get_fdata()\n",
    "            reduced_shape_data = reduce_shape(img_n_mmni)\n",
    "        \n",
    "            X_data.append(reduced_shape_data)\n",
    "            if Y['Conversion'][index] == 1 | Y['Conversion'][index] == 2 | Y['Conversion'][index] == 3 : # pMCI\n",
    "                Y_data.append(1)\n",
    "            elif Y['Conversion'][index] == 4 : #sMCI\n",
    "                Y_data.append(0) \n",
    "          \n",
    "            \n",
    "        else:\n",
    "            Y.drop(index, inplace=True)\n",
    "        \n",
    "    X_data = np.array(X_data)   \n",
    "    return X_data, Y_data\n",
    "\n",
    "\n"
   ]
  },
  {
   "cell_type": "code",
   "execution_count": 21,
   "id": "a5b96489-0227-4301-b0a5-bddd46e2d861",
   "metadata": {},
   "outputs": [
    {
     "name": "stdout",
     "output_type": "stream",
     "text": [
      "(300, 46, 55, 46)\n",
      "300\n"
     ]
    }
   ],
   "source": [
    "X_data, Y_data = Data_preparation_MCI(y_data)\n",
    "Y_data = to_categorical(Y_data, num_classes=2)\n",
    "\n",
    "print(X_data.shape)\n",
    "print(len(Y_data))"
   ]
  },
  {
   "cell_type": "code",
   "execution_count": 34,
   "id": "180c1e9d-4cbe-4662-a2e5-370a1e0df51a",
   "metadata": {},
   "outputs": [],
   "source": [
    "# on garde seulement une colonne pour y \n",
    "y_data = np.argmax(Y_data, axis= 1)"
   ]
  },
  {
   "cell_type": "markdown",
   "id": "9e73c429-8452-4ccc-a03c-ba7ce076400e",
   "metadata": {},
   "source": [
    "## Prédiction "
   ]
  },
  {
   "cell_type": "code",
   "execution_count": 35,
   "id": "5a5e4298-f6b1-4e92-b124-55cf191e0c32",
   "metadata": {},
   "outputs": [
    {
     "name": "stdout",
     "output_type": "stream",
     "text": [
      "10/10 [==============================] - 0s 30ms/step\n",
      "10/10 [==============================] - 0s 30ms/step\n"
     ]
    }
   ],
   "source": [
    "ypred_raw_model1 = model1.predict(X_data)\n",
    "ypred_raw_model2 = model2.predict(X_data)"
   ]
  },
  {
   "cell_type": "code",
   "execution_count": 36,
   "id": "b92dec4a-c3a4-43d4-8ef0-1fa1e878883f",
   "metadata": {},
   "outputs": [],
   "source": [
    "ypred_model1 = np.where(ypred_raw_model1 > 0.5, 1, 0)\n",
    "ypred_model2 = np.where(ypred_raw_model2 > 0.5, 1, 0)"
   ]
  },
  {
   "cell_type": "code",
   "execution_count": 37,
   "id": "b9df6408-6e15-4f7c-aee9-e1421b6b80d6",
   "metadata": {},
   "outputs": [
    {
     "name": "stdout",
     "output_type": "stream",
     "text": [
      "accuracy on MCI data based on CN and AD training with model 1: 0.6266666666666667 \n",
      "accuracy on MCI data based on CN and AD training with model 2: 0.61 \n"
     ]
    }
   ],
   "source": [
    "from sklearn.metrics import accuracy_score\n",
    "\n",
    "acc_model1 = accuracy_score(ypred_model1, y_data)\n",
    "acc_model2 = accuracy_score(ypred_model2, y_data)\n",
    "\n",
    "print('accuracy on MCI data based on CN and AD training with model 1: {} '.format(acc_model1))\n",
    "print('accuracy on MCI data based on CN and AD training with model 2: {} '.format(acc_model2))"
   ]
  },
  {
   "cell_type": "code",
   "execution_count": 39,
   "id": "0555cd5f-9a01-4a40-b5cf-9358da08a1a9",
   "metadata": {},
   "outputs": [
    {
     "name": "stdout",
     "output_type": "stream",
     "text": [
      "[[103  26]\n",
      " [ 86  85]]\n"
     ]
    },
    {
     "data": {
      "image/png": "[encoded data removed]",
      "text/plain": [
       "<Figure size 640x480 with 2 Axes>"
      ]
     },
     "metadata": {},
     "output_type": "display_data"
    }
   ],
   "source": [
    "from sklearn.metrics import confusion_matrix\n",
    "from sklearn.metrics import plot_confusion_matrix\n",
    "import seaborn as sns\n",
    "\n",
    "names = ['sMCI','pMCI']\n",
    "\n",
    "cf_matrix = confusion_matrix(y_data, ypred_model1)\n",
    "print(cf_matrix)\n",
    "ax = sns.heatmap(cf_matrix/np.sum(cf_matrix), annot=True, \n",
    "            fmt='.2%', cmap='Blues')\n",
    "plt.show()"
   ]
  },
  {
   "cell_type": "markdown",
   "id": "6811afc4-d986-4ece-9b6d-97f35eceeaa1",
   "metadata": {},
   "source": [
    "- pMCI ~ AD ==1\n",
    "- sMCI ~ CN ==0"
   ]
  },
  {
   "cell_type": "code",
   "execution_count": null,
   "id": "879fd63a-73b5-4522-8a7b-48a6c58cb154",
   "metadata": {},
   "outputs": [],
   "source": []
  }
 ],
 "metadata": {
  "kernelspec": {
   "display_name": "Python 3 (ipykernel)",
   "language": "python",
   "name": "python3"
  },
  "language_info": {
   "codemirror_mode": {
    "name": "ipython",
    "version": 3
   },
   "file_extension": ".py",
   "mimetype": "text/x-python",
   "name": "python",
   "nbconvert_exporter": "python",
   "pygments_lexer": "ipython3",
   "version": "3.10.6"
  },
  "vscode": {
   "interpreter": {
    "hash": "916dbcbb3f70747c44a77c7bcd40155683ae19c65e1c03b4aa3499c5328201f1"
   }
  }
 },
 "nbformat": 4,
 "nbformat_minor": 5
}
